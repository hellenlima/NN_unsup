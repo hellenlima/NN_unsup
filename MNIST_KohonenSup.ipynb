{
 "cells": [
  {
   "cell_type": "code",
   "execution_count": 1,
   "metadata": {
    "collapsed": false,
    "deletable": true,
    "editable": true
   },
   "outputs": [
    {
     "name": "stdout",
     "output_type": "stream",
     "text": [
      "CPU times: user 6 µs, sys: 3 µs, total: 9 µs\n",
      "Wall time: 15 µs\n"
     ]
    },
    {
     "name": "stderr",
     "output_type": "stream",
     "text": [
      "Using Theano backend.\n"
     ]
    }
   ],
   "source": [
    "%time\n",
    "import os\n",
    "import keras\n",
    "from keras.datasets import mnist\n",
    "from kohonen_sup import TrnParams as Trn\n",
    "from kohonen_sup import KohonenSup as KohonenClass\n",
    "\n",
    "#from sklearn import datasets\n",
    "from sklearn.model_selection import train_test_split\n",
    "#from sklearn import preprocessing\n",
    "from sklearn.metrics import accuracy_score\n",
    "\n",
    "\n",
    "import numpy as np\n",
    "import matplotlib.pyplot as plt\n",
    "%matplotlib inline"
   ]
  },
  {
   "cell_type": "code",
   "execution_count": 2,
   "metadata": {
    "collapsed": false,
    "deletable": true,
    "editable": true
   },
   "outputs": [
    {
     "name": "stdout",
     "output_type": "stream",
     "text": [
      "(2200, 'train samples')\n",
      "(200, 'test samples')\n"
     ]
    }
   ],
   "source": [
    "(x_train, y_train), (x_test, y_test) = mnist.load_data();\n",
    "\n",
    "x_train = x_train.reshape(60000, 784)\n",
    "x_test = x_test.reshape(10000, 784)\n",
    "x_train = x_train.astype('float32')\n",
    "x_test = x_test.astype('float32')\n",
    "\n",
    "#training set\n",
    "classes = np.unique(y_train)\n",
    "n_samples = 220; #n_samples for each class\n",
    "\n",
    "for i in range(len(classes)):\n",
    "    x_train_i = x_train[y_train==i][0:n_samples]\n",
    "    if (i==0):\n",
    "        x_train_new = x_train_i\n",
    "    else:\n",
    "        x_train_new = np.concatenate((x_train_new, x_train_i), axis=0)\n",
    "\n",
    "#labels training set\n",
    "for i in range(len(classes)):\n",
    "    y_train_i = y_train[y_train==i][0:n_samples]\n",
    "    if (i==0):\n",
    "        y_train_new = y_train_i\n",
    "    else:\n",
    "        y_train_new = np.concatenate((y_train_new, y_train_i), axis=0)\n",
    "        \n",
    "#test set\n",
    "classes = np.unique(y_test)\n",
    "n_samples_test = 20; #n_samples for each class\n",
    "\n",
    "for i in range(len(classes)):\n",
    "    x_test_i = x_test[y_test==i][0:n_samples_test]\n",
    "    if (i==0):\n",
    "        x_test_new = x_test_i\n",
    "    else:\n",
    "        x_test_new = np.concatenate((x_test_new, x_test_i), axis=0)\n",
    "\n",
    "# labels test set\n",
    "for i in range(len(classes)):\n",
    "    y_test_i = y_test[y_test==i][0:n_samples_test]\n",
    "    if (i==0):\n",
    "        y_test_new = y_test_i\n",
    "    else:\n",
    "        y_test_new = np.concatenate((y_test_new, y_test_i), axis=0)\n",
    "\n",
    "        \n",
    "x_train = x_train_new\n",
    "y_train = y_train_new\n",
    "x_test = x_test_new\n",
    "y_test = y_test_new\n",
    "\n",
    "\n",
    "#normalization\n",
    "x_train /= 255 \n",
    "x_test /= 255\n",
    "\n",
    "classes = np.unique(y_train);\n",
    "num_classes = len(classes)\n",
    "\n",
    "#convert class vectors to binary class matrices\n",
    "# y_train = keras.utils.to_categorical(y_train, num_classes)\n",
    "# y_test = keras.utils.to_categorical(y_test, num_classes)\n",
    "\n",
    "print(x_train.shape[0], 'train samples')\n",
    "print(x_test.shape[0], 'test samples')"
   ]
  },
  {
   "cell_type": "code",
   "execution_count": 19,
   "metadata": {
    "collapsed": false,
    "deletable": true,
    "editable": true
   },
   "outputs": [
    {
     "name": "stdout",
     "output_type": "stream",
     "text": [
      " Best train accuracy: 0.7925\n",
      "Best test accuracy: 0.82\n"
     ]
    }
   ],
   "source": [
    "n_folds = 10\n",
    "\n",
    "output_train=np.zeros((n_folds,2000))\n",
    "output_test=np.zeros((n_folds,200))\n",
    "accuracy_train=np.zeros((n_folds,))\n",
    "accuracy_test=np.zeros((n_folds,))\n",
    "best_accuracy = 0\n",
    "for ifold in range(n_folds):\n",
    "    \n",
    "    data_train, data_test, trgt_train, trgt_test = train_test_split(x_train, y_train, test_size=0.0909)\n",
    "    #print data_train.shape[0], 'train samples'\n",
    "    #print data_test.shape[0], 'test samples'\n",
    "\n",
    "    #train Supervised Kohonen Map\n",
    "    trn_params = Trn.TrnParams()\n",
    "\n",
    "    trn_params.learning_rate = 0.01\n",
    "#     W0 = np.array([np.mean(data[trgt==0], axis=0), np.mean(data[trgt==1], axis=0), np.mean(data[trgt==2], axis=0),\n",
    "#                   np.mean(data[trgt==3], axis=0), np.mean(data[trgt==4], axis=0), np.mean(data[trgt==5], axis=0),\n",
    "#                   np.mean(data[trgt==6], axis=0), np.mean(data[trgt==7], axis=0), np.mean(data[trgt==8], axis=0),\n",
    "#                   np.mean(data[trgt==9], axis=0)])\n",
    "    #kohonen_obj = KohonenClass.KohonenSup(W0=W0)\n",
    "    kohonen_obj = KohonenClass.KohonenSup()\n",
    "    kohonen_obj.fit(data=data_train,trgt=trgt_train.astype(int),trn_params=trn_params)\n",
    "    output_train[ifold] = kohonen_obj.predict(data=data_train)\n",
    "    output_test[ifold] =  kohonen_obj.predict(data=data_test)\n",
    "    \n",
    "    accuracy_train[ifold] = accuracy_score(trgt_train, output_train[ifold])\n",
    "    accuracy_test[ifold] = accuracy_score(trgt_test, output_test[ifold])\n",
    "    if (accuracy_test[ifold] > best_accuracy):\n",
    "        best_test_accuracy = accuracy_test[ifold]\n",
    "        best_train_accuracy = accuracy_train[ifold]\n",
    "        best_output_train = output_train[ifold]\n",
    "        best_output_test = output_test[ifold]\n",
    "        best_data_train = data_train\n",
    "        best_data_test = data_test\n",
    "        best_trgt_train = trgt_train\n",
    "        best_trgt_test = trgt_test\n",
    "\n",
    "print 'Best train accuracy:', best_train_accuracy\n",
    "print 'Best test accuracy:', best_test_accuracy"
   ]
  },
  {
   "cell_type": "code",
   "execution_count": 9,
   "metadata": {
    "collapsed": false,
    "deletable": true,
    "editable": true
   },
   "outputs": [
    {
     "data": {
      "image/png": "[encoded data removed]",
      "text/plain": [
       "<matplotlib.figure.Figure at 0x1093cbe50>"
      ]
     },
     "metadata": {},
     "output_type": "display_data"
    }
   ],
   "source": [
    "# plot cluster centers\n",
    "output_train = best_output_train\n",
    "data_train = best_data_train \n",
    "trgt_train = best_trgt_train\n",
    "\n",
    "cluster_centers = kohonen_obj.clusters\n",
    "n_clusters = np.shape(cluster_centers)[0]\n",
    "most_freq = np.zeros(n_clusters)\n",
    "freq = np.zeros([n_clusters, len(np.unique(trgt_train))])\n",
    "\n",
    "for icluster in range(n_clusters):\n",
    "    id_clusters = np.unique(output_train).astype(int)\n",
    "    labels = trgt_train[output_train==id_clusters[icluster]]\n",
    "    #print labels\n",
    "    for iclass in range(len(np.unique(trgt_train))):\n",
    "        freq[icluster,iclass]=np.sum(labels==iclass)\n",
    "    \n",
    "    most_freq[icluster] = np.argmax(np.bincount(labels))\n",
    "    \n",
    "plt.rcParams['lines.linewidth'] = 2\n",
    "plt.rcParams['legend.handlelength'] = 3\n",
    "plt.rcParams['legend.borderpad'] = 0.3\n",
    "plt.rcParams['legend.numpoints'] = 1\n",
    "\n",
    "nrows = 2\n",
    "ncols = 5\n",
    "irow = 0\n",
    "icolumn = 0\n",
    "fig, ax = plt.subplots(figsize=(10,4),nrows=nrows, ncols=ncols)\n",
    "plt.suptitle('Cluster Centers')\n",
    "\n",
    "for cluster in range(np.shape(cluster_centers)[0]):\n",
    "    img = cluster_centers[cluster];\n",
    "    img = img.reshape(28,28);\n",
    "\n",
    "    ax[irow,icolumn].imshow(img,cmap='gray',interpolation=\"nearest\")\n",
    "    ax[irow,icolumn].set_title(str(int(most_freq[cluster])))\n",
    "    ax[irow,icolumn].get_xaxis().set_visible(False)\n",
    "    ax[irow,icolumn].get_yaxis().set_visible(False)\n",
    "    \n",
    "    if (icolumn+1 == ncols):\n",
    "        icolumn = 0\n",
    "        irow = irow + 1\n",
    "    else:\n",
    "        icolumn = icolumn + 1\n",
    "        \n",
    "if cluster < (nrows*ncols):\n",
    "    for i in range(cluster,nrows*ncols-1):\n",
    "        ax[irow,icolumn].set_visible(False)\n",
    "        \n",
    "        if (icolumn+1 == ncols):\n",
    "            icolumn = 0\n",
    "            irow = irow + 1\n",
    "        else:\n",
    "            icolumn = icolumn + 1\n",
    "            "
   ]
  },
  {
   "cell_type": "code",
   "execution_count": 5,
   "metadata": {
    "collapsed": false,
    "deletable": true,
    "editable": true
   },
   "outputs": [
    {
     "data": {
      "image/png": "[encoded data removed]",
      "text/plain": [
       "<matplotlib.figure.Figure at 0x10929b450>"
      ]
     },
     "metadata": {},
     "output_type": "display_data"
    }
   ],
   "source": [
    "output_train = best_output_train\n",
    "data_train = best_data_train \n",
    "trgt_train = best_trgt_train\n",
    "\n",
    "#showing cluster frequencies - train data\n",
    "cluster_centers = kohonen_obj.clusters\n",
    "n_clusters = np.shape(cluster_centers)[0]\n",
    "most_freq = np.zeros(n_clusters)\n",
    "freq = np.zeros([n_clusters, len(np.unique(trgt_train))])\n",
    "\n",
    "for icluster in range(n_clusters):\n",
    "    id_clusters = np.unique(output_train).astype(int)\n",
    "    labels = trgt_train[output_train==id_clusters[icluster]]\n",
    "    \n",
    "    for iclass in range(len(np.unique(trgt_train))):\n",
    "        freq[icluster,iclass]=np.sum(labels==iclass)\n",
    "    \n",
    "    most_freq[icluster] = np.argmax(np.bincount(labels))\n",
    "    \n",
    "plt.rcParams['lines.linewidth'] = 2\n",
    "plt.rcParams['legend.handlelength'] = 3\n",
    "plt.rcParams['legend.borderpad'] = 0.3\n",
    "plt.rcParams['legend.numpoints'] = 1\n",
    "\n",
    "nrows = 2\n",
    "ncols = 5\n",
    "irow = 0\n",
    "icolumn = 0\n",
    "fig, ax = plt.subplots(figsize=(10,5),nrows=nrows, ncols=ncols)\n",
    "plt.suptitle('Frequencies - Training Data')\n",
    "for cluster in range(np.shape(cluster_centers)[0]):\n",
    "    val = freq[cluster,:]/np.sum(freq[cluster,:])\n",
    "    pos = np.arange(len(np.unique(y_train)))\n",
    "    \n",
    "    ax[irow,icolumn].barh(pos,val, align='center')\n",
    "    ax[irow,icolumn].get_yaxis().set_ticks(pos)\n",
    "    if (irow==nrows-1):\n",
    "        ax[irow,icolumn].set_xlabel('Norm. Frequency')\n",
    "    if (icolumn==0):\n",
    "        ax[irow,icolumn].set_ylabel('Classes')\n",
    "\n",
    "    if (icolumn+1 == ncols):\n",
    "        icolumn = 0\n",
    "        irow = irow + 1\n",
    "    else:\n",
    "        icolumn = icolumn + 1\n",
    "\n",
    "if cluster < (nrows*ncols):\n",
    "    for i in range(cluster,nrows*ncols-1):\n",
    "        ax[irow,icolumn].set_visible(False)\n",
    "        \n",
    "        if (icolumn+1 == ncols):\n",
    "            icolumn = 0\n",
    "            irow = irow + 1\n",
    "        else:\n",
    "            icolumn = icolumn + 1"
   ]
  },
  {
   "cell_type": "code",
   "execution_count": 6,
   "metadata": {
    "collapsed": false
   },
   "outputs": [
    {
     "data": {
      "image/png": "[encoded data removed]",
      "text/plain": [
       "<matplotlib.figure.Figure at 0x109e7f150>"
      ]
     },
     "metadata": {},
     "output_type": "display_data"
    }
   ],
   "source": [
    "output_test = best_output_test\n",
    "data_test = best_data_test\n",
    "trgt_test = best_trgt_test\n",
    "\n",
    "#showing cluster frequencies - test data\n",
    "cluster_centers = kohonen_obj.clusters\n",
    "n_clusters = np.shape(cluster_centers)[0]\n",
    "most_freq = np.zeros(n_clusters)\n",
    "freq = np.zeros([n_clusters, len(np.unique(trgt_test))])\n",
    "\n",
    "for icluster in range(n_clusters):\n",
    "    id_clusters = np.unique(output_test).astype(int)\n",
    "    labels = trgt_test[output_test==id_clusters[icluster]]\n",
    "    \n",
    "    for iclass in range(len(np.unique(trgt_test))):\n",
    "        freq[icluster,iclass]=np.sum(labels==iclass)\n",
    "    \n",
    "    most_freq[icluster] = np.argmax(np.bincount(labels))\n",
    "    \n",
    "plt.rcParams['lines.linewidth'] = 2\n",
    "plt.rcParams['legend.handlelength'] = 3\n",
    "plt.rcParams['legend.borderpad'] = 0.3\n",
    "plt.rcParams['legend.numpoints'] = 1\n",
    "\n",
    "nrows = 2\n",
    "ncols = 5\n",
    "irow = 0\n",
    "icolumn = 0\n",
    "fig, ax = plt.subplots(figsize=(10,5),nrows=nrows, ncols=ncols)\n",
    "plt.suptitle('Frequencies - Test Data')\n",
    "for cluster in range(np.shape(cluster_centers)[0]):\n",
    "    val = freq[cluster,:]/np.sum(freq[cluster,:])\n",
    "    pos = np.arange(len(np.unique(y_test)))\n",
    "    \n",
    "    ax[irow,icolumn].barh(pos,val, align='center')\n",
    "    ax[irow,icolumn].get_yaxis().set_ticks(pos)\n",
    "    if (irow==nrows-1):\n",
    "        ax[irow,icolumn].set_xlabel('Norm. Frequency')\n",
    "    if (icolumn==0):\n",
    "        ax[irow,icolumn].set_ylabel('Classes')\n",
    "\n",
    "    if (icolumn+1 == ncols):\n",
    "        icolumn = 0\n",
    "        irow = irow + 1\n",
    "    else:\n",
    "        icolumn = icolumn + 1\n",
    "\n",
    "if cluster < (nrows*ncols):\n",
    "    for i in range(cluster,nrows*ncols-1):\n",
    "        ax[irow,icolumn].set_visible(False)\n",
    "        \n",
    "        if (icolumn+1 == ncols):\n",
    "            icolumn = 0\n",
    "            irow = irow + 1\n",
    "        else:\n",
    "            icolumn = icolumn + 1"
   ]
  },
  {
   "cell_type": "code",
   "execution_count": 48,
   "metadata": {
    "collapsed": false
   },
   "outputs": [
    {
     "name": "stdout",
     "output_type": "stream",
     "text": [
      "Train Accuracy: 0.79035 ± 0.00973665753737\n",
      "Best Train accuracy:  0.7925\n",
      "Train Accuracy: 0.7715 ± 0.0457192519624\n",
      "Best Test accuracy:  0.82\n"
     ]
    }
   ],
   "source": [
    "#accuracy calculation\n",
    "\n",
    "err_train = np.sqrt(np.var(accuracy_train))\n",
    "mean_train = np.mean(accuracy_train)\n",
    "print 'Train Accuracy:', mean_train,'±', err_train\n",
    "print 'Best Train accuracy: ',best_train_accuracy\n",
    "\n",
    "err_test = np.sqrt(np.var(accuracy_test))\n",
    "mean_test = np.mean(accuracy_test)\n",
    "print 'Train Accuracy:', mean_test,'±', err_test\n",
    "print 'Best Test accuracy: ',best_test_accuracy"
   ]
  },
  {
   "cell_type": "code",
   "execution_count": null,
   "metadata": {
    "collapsed": false
   },
   "outputs": [],
   "source": []
  }
 ],
 "metadata": {
  "kernelspec": {
   "display_name": "Python 2",
   "language": "python",
   "name": "python2"
  },
  "language_info": {
   "codemirror_mode": {
    "name": "ipython",
    "version": 2
   },
   "file_extension": ".py",
   "mimetype": "text/x-python",
   "name": "python",
   "nbconvert_exporter": "python",
   "pygments_lexer": "ipython2",
   "version": "2.7.12"
  }
 },
 "nbformat": 4,
 "nbformat_minor": 2
}
