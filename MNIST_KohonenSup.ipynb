{
 "cells": [
  {
   "cell_type": "code",
   "execution_count": 22,
   "metadata": {
    "collapsed": false
   },
   "outputs": [
    {
     "name": "stdout",
     "output_type": "stream",
     "text": [
      "CPU times: user 2 µs, sys: 1 µs, total: 3 µs\n",
      "Wall time: 5.01 µs\n"
     ]
    }
   ],
   "source": [
    "%time\n",
    "import os\n",
    "import keras\n",
    "from keras.datasets import mnist\n",
    "from kohonen_sup import TrnParams as Trn\n",
    "from kohonen_sup import KohonenSup as KohonenClass\n",
    "\n",
    "#from sklearn import datasets\n",
    "#from sklearn import cross_validation\n",
    "#from sklearn import preprocessing\n",
    "#from sklearn import metrics\n",
    "\n",
    "import numpy as np\n",
    "import matplotlib.pyplot as plt\n",
    "%matplotlib inline"
   ]
  },
  {
   "cell_type": "code",
   "execution_count": 23,
   "metadata": {
    "collapsed": false
   },
   "outputs": [
    {
     "name": "stdout",
     "output_type": "stream",
     "text": [
      "(2000, 'train samples')\n",
      "(200, 'test samples')\n"
     ]
    }
   ],
   "source": [
    "(x_train, y_train), (x_test, y_test) = mnist.load_data();\n",
    "\n",
    "x_train = x_train.reshape(60000, 784)\n",
    "x_test = x_test.reshape(10000, 784)\n",
    "x_train = x_train.astype('float32')\n",
    "x_test = x_test.astype('float32')\n",
    "\n",
    "#training set\n",
    "classes = np.unique(y_train)\n",
    "n_samples = 200; #n_samples for each class\n",
    "\n",
    "for i in range(len(classes)):\n",
    "    x_train_i = x_train[y_train==i][0:n_samples]\n",
    "    if (i==0):\n",
    "        x_train_new = x_train_i\n",
    "    else:\n",
    "        x_train_new = np.concatenate((x_train_new, x_train_i), axis=0)\n",
    "\n",
    "#labels training set\n",
    "for i in range(len(classes)):\n",
    "    y_train_i = y_train[y_train==i][0:n_samples]\n",
    "    if (i==0):\n",
    "        y_train_new = y_train_i\n",
    "    else:\n",
    "        y_train_new = np.concatenate((y_train_new, y_train_i), axis=0)\n",
    "        \n",
    "#test set\n",
    "classes = np.unique(y_test)\n",
    "n_samples_test = 20; #n_samples for each class\n",
    "\n",
    "for i in range(len(classes)):\n",
    "    x_test_i = x_test[y_test==i][0:n_samples_test]\n",
    "    if (i==0):\n",
    "        x_test_new = x_test_i\n",
    "    else:\n",
    "        x_test_new = np.concatenate((x_test_new, x_test_i), axis=0)\n",
    "\n",
    "# labels test set\n",
    "for i in range(len(classes)):\n",
    "    y_test_i = y_test[y_test==i][0:n_samples_test]\n",
    "    if (i==0):\n",
    "        y_test_new = y_test_i\n",
    "    else:\n",
    "        y_test_new = np.concatenate((y_test_new, y_test_i), axis=0)\n",
    "\n",
    "        \n",
    "x_train = x_train_new\n",
    "y_train = y_train_new\n",
    "x_test = x_test_new\n",
    "y_test = y_test_new\n",
    "\n",
    "\n",
    "#normalization\n",
    "x_train /= 255 \n",
    "x_test /= 255\n",
    "\n",
    "classes = np.unique(y_train);\n",
    "num_classes = len(classes)\n",
    "\n",
    "#convert class vectors to binary class matrices\n",
    "# y_train = keras.utils.to_categorical(y_train, num_classes)\n",
    "# y_test = keras.utils.to_categorical(y_test, num_classes)\n",
    "\n",
    "print(x_train.shape[0], 'train samples')\n",
    "print(x_test.shape[0], 'test samples')"
   ]
  },
  {
   "cell_type": "code",
   "execution_count": 24,
   "metadata": {
    "collapsed": false
   },
   "outputs": [
    {
     "name": "stdout",
     "output_type": "stream",
     "text": [
      "Class KohonenSup TrnParams\n",
      "Learning Rate: 0.01000\n",
      "Verbose: False\n",
      "Number of events: 2000\n"
     ]
    }
   ],
   "source": [
    "#train Supervised Kohonen Map\n",
    "\n",
    "trn_params = Trn.TrnParams()\n",
    "\n",
    "trn_params.learning_rate = 0.01\n",
    "\n",
    "#kohonen_obj = KohonenClass.KohonenSup(W0=np.array([np.mean(data[trgt==0], axis=0), np.mean(data[trgt==1], axis=0)]))\n",
    "kohonen_obj = KohonenClass.KohonenSup()\n",
    "kohonen_obj.fit(data=x_train,trgt=y_train.astype(int),trn_params=trn_params)\n",
    "output = kohonen_obj.predict(data=x_train)"
   ]
  },
  {
   "cell_type": "code",
   "execution_count": 25,
   "metadata": {
    "collapsed": false
   },
   "outputs": [
    {
     "data": {
      "image/png": "[encoded data removed]",
      "text/plain": [
       "<matplotlib.figure.Figure at 0x10c9755d0>"
      ]
     },
     "metadata": {},
     "output_type": "display_data"
    }
   ],
   "source": [
    "# plot cluster centers\n",
    "\n",
    "cluster_centers = kohonen_obj.clusters\n",
    "n_clusters = np.shape(cluster_centers)[0]\n",
    "most_freq = np.zeros(n_clusters)\n",
    "freq = np.zeros([n_clusters, len(np.unique(y_train))])\n",
    "\n",
    "for icluster in range(n_clusters):\n",
    "    id_clusters = np.unique(output).astype(int)\n",
    "    labels = y_train[output==id_clusters[icluster]]\n",
    "    \n",
    "    for iclass in range(len(np.unique(y_train))):\n",
    "        freq[icluster,iclass]=np.sum(labels==iclass)\n",
    "    \n",
    "    most_freq[icluster] = np.argmax(np.bincount(labels))\n",
    "    \n",
    "plt.rcParams['lines.linewidth'] = 2\n",
    "plt.rcParams['legend.handlelength'] = 3\n",
    "plt.rcParams['legend.borderpad'] = 0.3\n",
    "plt.rcParams['legend.numpoints'] = 1\n",
    "\n",
    "nrows = 2\n",
    "ncols = 5\n",
    "irow = 0\n",
    "icolumn = 0\n",
    "fig, ax = plt.subplots(figsize=(10,5),nrows=nrows, ncols=ncols)\n",
    "\n",
    "for cluster in range(np.shape(cluster_centers)[0]):\n",
    "    img = cluster_centers[cluster];\n",
    "    img = img.reshape(28,28);\n",
    "\n",
    "    ax[irow,icolumn].imshow(img,cmap='gray',interpolation=\"nearest\")\n",
    "    ax[irow,icolumn].set_title(str(int(most_freq[cluster])))\n",
    "    ax[irow,icolumn].get_xaxis().set_visible(False)\n",
    "    ax[irow,icolumn].get_yaxis().set_visible(False)\n",
    "    \n",
    "    if (icolumn+1 == ncols):\n",
    "        icolumn = 0\n",
    "        irow = irow + 1\n",
    "    else:\n",
    "        icolumn = icolumn + 1\n",
    "        \n",
    "if cluster < (nrows*ncols):\n",
    "    for i in range(cluster,nrows*ncols-1):\n",
    "        ax[irow,icolumn].set_visible(False)\n",
    "        \n",
    "        if (icolumn+1 == ncols):\n",
    "            icolumn = 0\n",
    "            irow = irow + 1\n",
    "        else:\n",
    "            icolumn = icolumn + 1"
   ]
  },
  {
   "cell_type": "code",
   "execution_count": 26,
   "metadata": {
    "collapsed": false
   },
   "outputs": [
    {
     "data": {
      "image/png": "[encoded data removed]",
      "text/plain": [
       "<matplotlib.figure.Figure at 0x10e9ef390>"
      ]
     },
     "metadata": {},
     "output_type": "display_data"
    }
   ],
   "source": [
    "#showing cluster frequencies\n",
    "cluster_centers = kohonen_obj.clusters\n",
    "n_clusters = np.shape(cluster_centers)[0]\n",
    "most_freq = np.zeros(n_clusters)\n",
    "freq = np.zeros([n_clusters, len(np.unique(y_train))])\n",
    "\n",
    "for icluster in range(n_clusters):\n",
    "    id_clusters = np.unique(output).astype(int)\n",
    "    labels = y_train[output==id_clusters[icluster]]\n",
    "    \n",
    "    for iclass in range(len(np.unique(y_train))):\n",
    "        freq[icluster,iclass]=np.sum(labels==iclass)\n",
    "    \n",
    "    most_freq[icluster] = np.argmax(np.bincount(labels))\n",
    "    \n",
    "plt.rcParams['lines.linewidth'] = 2\n",
    "plt.rcParams['legend.handlelength'] = 3\n",
    "plt.rcParams['legend.borderpad'] = 0.3\n",
    "plt.rcParams['legend.numpoints'] = 1\n",
    "\n",
    "nrows = 2\n",
    "ncols = 5\n",
    "irow = 0\n",
    "icolumn = 0\n",
    "fig, ax = plt.subplots(figsize=(12,8),nrows=nrows, ncols=ncols)\n",
    "\n",
    "for cluster in range(np.shape(cluster_centers)[0]):\n",
    "    val = freq[cluster,:]/np.sum(freq[cluster,:])\n",
    "    pos = np.arange(len(np.unique(y_train)))\n",
    "    \n",
    "    ax[irow,icolumn].barh(pos,val, align='center')\n",
    "    ax[irow,icolumn].get_yaxis().set_ticks(pos)\n",
    "    if (irow==nrows-1):\n",
    "        ax[irow,icolumn].set_xlabel('Norm. Frequency')\n",
    "    if (icolumn==0):\n",
    "        ax[irow,icolumn].set_ylabel('Classes')\n",
    "\n",
    "    if (icolumn+1 == ncols):\n",
    "        icolumn = 0\n",
    "        irow = irow + 1\n",
    "    else:\n",
    "        icolumn = icolumn + 1\n",
    "\n",
    "if cluster < (nrows*ncols):\n",
    "    for i in range(cluster,nrows*ncols-1):\n",
    "        ax[irow,icolumn].set_visible(False)\n",
    "        \n",
    "        if (icolumn+1 == ncols):\n",
    "            icolumn = 0\n",
    "            irow = irow + 1\n",
    "        else:\n",
    "            icolumn = icolumn + 1\n",
    "\n"
   ]
  }
 ],
 "metadata": {
  "kernelspec": {
   "display_name": "Python 2",
   "language": "python",
   "name": "python2"
  },
  "language_info": {
   "codemirror_mode": {
    "name": "ipython",
    "version": 2
   },
   "file_extension": ".py",
   "mimetype": "text/x-python",
   "name": "python",
   "nbconvert_exporter": "python",
   "pygments_lexer": "ipython2",
   "version": "2.7.12"
  }
 },
 "nbformat": 4,
 "nbformat_minor": 2
}
