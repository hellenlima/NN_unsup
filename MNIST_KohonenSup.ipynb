{
 "cells": [
  {
   "cell_type": "code",
   "execution_count": 36,
   "metadata": {
    "collapsed": false,
    "deletable": true,
    "editable": true
   },
   "outputs": [
    {
     "name": "stdout",
     "output_type": "stream",
     "text": [
      "CPU times: user 2 µs, sys: 0 ns, total: 2 µs\n",
      "Wall time: 5.96 µs\n"
     ]
    }
   ],
   "source": [
    "%time\n",
    "import os\n",
    "import keras\n",
    "from keras.datasets import mnist\n",
    "from kohonen_sup import TrnParams as Trn\n",
    "from kohonen_sup import KohonenSup as KohonenClass\n",
    "\n",
    "#from sklearn import datasets\n",
    "#from sklearn import cross_validation\n",
    "#from sklearn import preprocessing\n",
    "from sklearn.metrics import accuracy_score\n",
    "\n",
    "import numpy as np\n",
    "import matplotlib.pyplot as plt\n",
    "%matplotlib inline"
   ]
  },
  {
   "cell_type": "code",
   "execution_count": 40,
   "metadata": {
    "collapsed": false,
    "deletable": true,
    "editable": true
   },
   "outputs": [
    {
     "name": "stdout",
     "output_type": "stream",
     "text": [
      "(2000, 'train samples')\n",
      "(200, 'test samples')\n"
     ]
    }
   ],
   "source": [
    "(x_train, y_train), (x_test, y_test) = mnist.load_data();\n",
    "\n",
    "x_train = x_train.reshape(60000, 784)\n",
    "x_test = x_test.reshape(10000, 784)\n",
    "x_train = x_train.astype('float32')\n",
    "x_test = x_test.astype('float32')\n",
    "\n",
    "#training set\n",
    "classes = np.unique(y_train)\n",
    "n_samples = 200; #n_samples for each class\n",
    "\n",
    "for i in range(len(classes)):\n",
    "    x_train_i = x_train[y_train==i][0:n_samples]\n",
    "    if (i==0):\n",
    "        x_train_new = x_train_i\n",
    "    else:\n",
    "        x_train_new = np.concatenate((x_train_new, x_train_i), axis=0)\n",
    "\n",
    "#labels training set\n",
    "for i in range(len(classes)):\n",
    "    y_train_i = y_train[y_train==i][0:n_samples]\n",
    "    if (i==0):\n",
    "        y_train_new = y_train_i\n",
    "    else:\n",
    "        y_train_new = np.concatenate((y_train_new, y_train_i), axis=0)\n",
    "        \n",
    "#test set\n",
    "classes = np.unique(y_test)\n",
    "n_samples_test = 20; #n_samples for each class\n",
    "\n",
    "for i in range(len(classes)):\n",
    "    x_test_i = x_test[y_test==i][0:n_samples_test]\n",
    "    if (i==0):\n",
    "        x_test_new = x_test_i\n",
    "    else:\n",
    "        x_test_new = np.concatenate((x_test_new, x_test_i), axis=0)\n",
    "\n",
    "# labels test set\n",
    "for i in range(len(classes)):\n",
    "    y_test_i = y_test[y_test==i][0:n_samples_test]\n",
    "    if (i==0):\n",
    "        y_test_new = y_test_i\n",
    "    else:\n",
    "        y_test_new = np.concatenate((y_test_new, y_test_i), axis=0)\n",
    "\n",
    "        \n",
    "x_train = x_train_new\n",
    "y_train = y_train_new\n",
    "x_test = x_test_new\n",
    "y_test = y_test_new\n",
    "\n",
    "\n",
    "#normalization\n",
    "x_train /= 255 \n",
    "x_test /= 255\n",
    "\n",
    "classes = np.unique(y_train);\n",
    "num_classes = len(classes)\n",
    "\n",
    "#convert class vectors to binary class matrices\n",
    "# y_train = keras.utils.to_categorical(y_train, num_classes)\n",
    "# y_test = keras.utils.to_categorical(y_test, num_classes)\n",
    "\n",
    "print(x_train.shape[0], 'train samples')\n",
    "print(x_test.shape[0], 'test samples')"
   ]
  },
  {
   "cell_type": "code",
   "execution_count": 102,
   "metadata": {
    "collapsed": false,
    "deletable": true,
    "editable": true
   },
   "outputs": [
    {
     "name": "stdout",
     "output_type": "stream",
     "text": [
      "Class KohonenSup TrnParams\n",
      "Learning Rate: 0.01000\n",
      "Verbose: False\n",
      "Number of events: 2000\n"
     ]
    }
   ],
   "source": [
    "#train Supervised Kohonen Map\n",
    "data = x_train\n",
    "trgt = y_train\n",
    "trn_params = Trn.TrnParams()\n",
    "\n",
    "trn_params.learning_rate = 0.01\n",
    "W0 = np.array([np.mean(data[trgt==0], axis=0), np.mean(data[trgt==1], axis=0), np.mean(data[trgt==2], axis=0),\n",
    "              np.mean(data[trgt==3], axis=0), np.mean(data[trgt==4], axis=0), np.mean(data[trgt==5], axis=0),\n",
    "              np.mean(data[trgt==6], axis=0), np.mean(data[trgt==7], axis=0), np.mean(data[trgt==8], axis=0),\n",
    "              np.mean(data[trgt==9], axis=0)])\n",
    "#kohonen_obj = KohonenClass.KohonenSup(W0=W0)\n",
    "kohonen_obj = KohonenClass.KohonenSup()\n",
    "kohonen_obj.fit(data=x_train,trgt=y_train.astype(int),trn_params=trn_params)\n",
    "output_train = kohonen_obj.predict(data=x_train)\n",
    "output_test =  kohonen_obj.predict(data=x_test)\n"
   ]
  },
  {
   "cell_type": "code",
   "execution_count": 103,
   "metadata": {
    "collapsed": false,
    "deletable": true,
    "editable": true
   },
   "outputs": [
    {
     "data": {
      "image/png": "[encoded data removed]",
      "text/plain": [
       "<matplotlib.figure.Figure at 0x10dca2410>"
      ]
     },
     "metadata": {},
     "output_type": "display_data"
    }
   ],
   "source": [
    "# plot cluster centers\n",
    "#y_train = y_test\n",
    "cluster_centers = kohonen_obj.clusters\n",
    "n_clusters = np.shape(cluster_centers)[0]\n",
    "most_freq = np.zeros(n_clusters)\n",
    "freq = np.zeros([n_clusters, len(np.unique(y_train))])\n",
    "\n",
    "for icluster in range(n_clusters):\n",
    "    id_clusters = np.unique(output_train).astype(int)\n",
    "    labels = y_train[output_train==id_clusters[icluster]]\n",
    "    \n",
    "    for iclass in range(len(np.unique(y_train))):\n",
    "        freq[icluster,iclass]=np.sum(labels==iclass)\n",
    "    \n",
    "    most_freq[icluster] = np.argmax(np.bincount(labels))\n",
    "    \n",
    "plt.rcParams['lines.linewidth'] = 2\n",
    "plt.rcParams['legend.handlelength'] = 3\n",
    "plt.rcParams['legend.borderpad'] = 0.3\n",
    "plt.rcParams['legend.numpoints'] = 1\n",
    "\n",
    "nrows = 2\n",
    "ncols = 5\n",
    "irow = 0\n",
    "icolumn = 0\n",
    "fig, ax = plt.subplots(figsize=(10,4),nrows=nrows, ncols=ncols)\n",
    "plt.suptitle('Cluster Centers')\n",
    "\n",
    "for cluster in range(np.shape(cluster_centers)[0]):\n",
    "    img = cluster_centers[cluster];\n",
    "    img = img.reshape(28,28);\n",
    "\n",
    "    ax[irow,icolumn].imshow(img,cmap='gray',interpolation=\"nearest\")\n",
    "    ax[irow,icolumn].set_title(str(int(most_freq[cluster])))\n",
    "    ax[irow,icolumn].get_xaxis().set_visible(False)\n",
    "    ax[irow,icolumn].get_yaxis().set_visible(False)\n",
    "    \n",
    "    if (icolumn+1 == ncols):\n",
    "        icolumn = 0\n",
    "        irow = irow + 1\n",
    "    else:\n",
    "        icolumn = icolumn + 1\n",
    "        \n",
    "if cluster < (nrows*ncols):\n",
    "    for i in range(cluster,nrows*ncols-1):\n",
    "        ax[irow,icolumn].set_visible(False)\n",
    "        \n",
    "        if (icolumn+1 == ncols):\n",
    "            icolumn = 0\n",
    "            irow = irow + 1\n",
    "        else:\n",
    "            icolumn = icolumn + 1"
   ]
  },
  {
   "cell_type": "code",
   "execution_count": 52,
   "metadata": {
    "collapsed": false,
    "deletable": true,
    "editable": true
   },
   "outputs": [
    {
     "data": {
      "image/png": "[encoded data removed]",
      "text/plain": [
       "<matplotlib.figure.Figure at 0x10e7e1dd0>"
      ]
     },
     "metadata": {},
     "output_type": "display_data"
    }
   ],
   "source": [
    "#showing cluster frequencies - train data\n",
    "cluster_centers = kohonen_obj.clusters\n",
    "n_clusters = np.shape(cluster_centers)[0]\n",
    "most_freq = np.zeros(n_clusters)\n",
    "freq = np.zeros([n_clusters, len(np.unique(y_train))])\n",
    "\n",
    "for icluster in range(n_clusters):\n",
    "    id_clusters = np.unique(output_train).astype(int)\n",
    "    labels = y_train[output_train==id_clusters[icluster]]\n",
    "    \n",
    "    for iclass in range(len(np.unique(y_train))):\n",
    "        freq[icluster,iclass]=np.sum(labels==iclass)\n",
    "    \n",
    "    most_freq[icluster] = np.argmax(np.bincount(labels))\n",
    "    \n",
    "plt.rcParams['lines.linewidth'] = 2\n",
    "plt.rcParams['legend.handlelength'] = 3\n",
    "plt.rcParams['legend.borderpad'] = 0.3\n",
    "plt.rcParams['legend.numpoints'] = 1\n",
    "\n",
    "nrows = 2\n",
    "ncols = 5\n",
    "irow = 0\n",
    "icolumn = 0\n",
    "fig, ax = plt.subplots(figsize=(10,5),nrows=nrows, ncols=ncols)\n",
    "plt.suptitle('Frequencies - Training Data')\n",
    "for cluster in range(np.shape(cluster_centers)[0]):\n",
    "    val = freq[cluster,:]/np.sum(freq[cluster,:])\n",
    "    pos = np.arange(len(np.unique(y_train)))\n",
    "    \n",
    "    ax[irow,icolumn].barh(pos,val, align='center')\n",
    "    ax[irow,icolumn].get_yaxis().set_ticks(pos)\n",
    "    if (irow==nrows-1):\n",
    "        ax[irow,icolumn].set_xlabel('Norm. Frequency')\n",
    "    if (icolumn==0):\n",
    "        ax[irow,icolumn].set_ylabel('Classes')\n",
    "\n",
    "    if (icolumn+1 == ncols):\n",
    "        icolumn = 0\n",
    "        irow = irow + 1\n",
    "    else:\n",
    "        icolumn = icolumn + 1\n",
    "\n",
    "if cluster < (nrows*ncols):\n",
    "    for i in range(cluster,nrows*ncols-1):\n",
    "        ax[irow,icolumn].set_visible(False)\n",
    "        \n",
    "        if (icolumn+1 == ncols):\n",
    "            icolumn = 0\n",
    "            irow = irow + 1\n",
    "        else:\n",
    "            icolumn = icolumn + 1"
   ]
  },
  {
   "cell_type": "code",
   "execution_count": 91,
   "metadata": {
    "collapsed": false
   },
   "outputs": [
    {
     "data": {
      "image/png": "[encoded data removed]",
      "text/plain": [
       "<matplotlib.figure.Figure at 0x10dd6f8d0>"
      ]
     },
     "metadata": {},
     "output_type": "display_data"
    }
   ],
   "source": [
    "#showing cluster frequencies - test data\n",
    "cluster_centers = kohonen_obj.clusters\n",
    "n_clusters = np.shape(cluster_centers)[0]\n",
    "most_freq = np.zeros(n_clusters)\n",
    "freq = np.zeros([n_clusters, len(np.unique(y_test))])\n",
    "\n",
    "for icluster in range(n_clusters):\n",
    "    id_clusters = np.unique(output_test).astype(int)\n",
    "    labels = y_test[output_test==id_clusters[icluster]]\n",
    "    \n",
    "    for iclass in range(len(np.unique(y_test))):\n",
    "        freq[icluster,iclass]=np.sum(labels==iclass)\n",
    "    \n",
    "    most_freq[icluster] = np.argmax(np.bincount(labels))\n",
    "    \n",
    "plt.rcParams['lines.linewidth'] = 2\n",
    "plt.rcParams['legend.handlelength'] = 3\n",
    "plt.rcParams['legend.borderpad'] = 0.3\n",
    "plt.rcParams['legend.numpoints'] = 1\n",
    "\n",
    "nrows = 2\n",
    "ncols = 5\n",
    "irow = 0\n",
    "icolumn = 0\n",
    "fig, ax = plt.subplots(figsize=(10,5),nrows=nrows, ncols=ncols)\n",
    "plt.suptitle('Frequencies - Test Data')\n",
    "for cluster in range(np.shape(cluster_centers)[0]):\n",
    "    val = freq[cluster,:]/np.sum(freq[cluster,:])\n",
    "    pos = np.arange(len(np.unique(y_test)))\n",
    "    \n",
    "    ax[irow,icolumn].barh(pos,val, align='center')\n",
    "    ax[irow,icolumn].get_yaxis().set_ticks(pos)\n",
    "    if (irow==nrows-1):\n",
    "        ax[irow,icolumn].set_xlabel('Norm. Frequency')\n",
    "    if (icolumn==0):\n",
    "        ax[irow,icolumn].set_ylabel('Classes')\n",
    "\n",
    "    if (icolumn+1 == ncols):\n",
    "        icolumn = 0\n",
    "        irow = irow + 1\n",
    "    else:\n",
    "        icolumn = icolumn + 1\n",
    "\n",
    "if cluster < (nrows*ncols):\n",
    "    for i in range(cluster,nrows*ncols-1):\n",
    "        ax[irow,icolumn].set_visible(False)\n",
    "        \n",
    "        if (icolumn+1 == ncols):\n",
    "            icolumn = 0\n",
    "            irow = irow + 1\n",
    "        else:\n",
    "            icolumn = icolumn + 1"
   ]
  },
  {
   "cell_type": "code",
   "execution_count": 105,
   "metadata": {
    "collapsed": false
   },
   "outputs": [
    {
     "name": "stdout",
     "output_type": "stream",
     "text": [
      "Train accuracy:  0.7755\n",
      "Test accuracy:  0.74\n"
     ]
    }
   ],
   "source": [
    "#accuracy calculation\n",
    "accuracy_train = accuracy_score(y_train, output_train)\n",
    "print 'Train accuracy: ',accuracy_train\n",
    "\n",
    "accuracy_test = accuracy_score(y_test, output_test)\n",
    "print 'Test accuracy: ',accuracy_test"
   ]
  }
 ],
 "metadata": {
  "kernelspec": {
   "display_name": "Python 2",
   "language": "python",
   "name": "python2"
  },
  "language_info": {
   "codemirror_mode": {
    "name": "ipython",
    "version": 2
   },
   "file_extension": ".py",
   "mimetype": "text/x-python",
   "name": "python",
   "nbconvert_exporter": "python",
   "pygments_lexer": "ipython2",
   "version": "2.7.12"
  }
 },
 "nbformat": 4,
 "nbformat_minor": 2
}
