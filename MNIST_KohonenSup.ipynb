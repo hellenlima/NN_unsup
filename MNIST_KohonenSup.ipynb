{
 "cells": [
  {
   "cell_type": "code",
   "execution_count": 1,
   "metadata": {
    "collapsed": false,
    "deletable": true,
    "editable": true
   },
   "outputs": [
    {
     "name": "stdout",
     "output_type": "stream",
     "text": [
      "CPU times: user 5 µs, sys: 2 µs, total: 7 µs\n",
      "Wall time: 15 µs\n"
     ]
    },
    {
     "name": "stderr",
     "output_type": "stream",
     "text": [
      "Using Theano backend.\n"
     ]
    }
   ],
   "source": [
    "%time\n",
    "import os\n",
    "import keras\n",
    "from keras.datasets import mnist\n",
    "from kohonen_sup import TrnParams as Trn\n",
    "from kohonen_sup import KohonenSup as KohonenClass\n",
    "\n",
    "#from sklearn import datasets\n",
    "from sklearn.model_selection import train_test_split\n",
    "#from sklearn import preprocessing\n",
    "from sklearn.metrics import accuracy_score\n",
    "\n",
    "\n",
    "import numpy as np\n",
    "import matplotlib.pyplot as plt\n",
    "%matplotlib inline"
   ]
  },
  {
   "cell_type": "code",
   "execution_count": 2,
   "metadata": {
    "collapsed": false,
    "deletable": true,
    "editable": true
   },
   "outputs": [
    {
     "name": "stdout",
     "output_type": "stream",
     "text": [
      "(2200, 'train samples')\n",
      "(200, 'test samples')\n"
     ]
    }
   ],
   "source": [
    "(x_train, y_train), (x_test, y_test) = mnist.load_data();\n",
    "\n",
    "x_train = x_train.reshape(60000, 784)\n",
    "x_test = x_test.reshape(10000, 784)\n",
    "x_train = x_train.astype('float32')\n",
    "x_test = x_test.astype('float32')\n",
    "\n",
    "#training set\n",
    "classes = np.unique(y_train)\n",
    "n_samples = 220; #n_samples for each class\n",
    "\n",
    "for i in range(len(classes)):\n",
    "    x_train_i = x_train[y_train==i][0:n_samples]\n",
    "    if (i==0):\n",
    "        x_train_new = x_train_i\n",
    "    else:\n",
    "        x_train_new = np.concatenate((x_train_new, x_train_i), axis=0)\n",
    "\n",
    "#labels training set\n",
    "for i in range(len(classes)):\n",
    "    y_train_i = y_train[y_train==i][0:n_samples]\n",
    "    if (i==0):\n",
    "        y_train_new = y_train_i\n",
    "    else:\n",
    "        y_train_new = np.concatenate((y_train_new, y_train_i), axis=0)\n",
    "        \n",
    "#test set\n",
    "classes = np.unique(y_test)\n",
    "n_samples_test = 20; #n_samples for each class\n",
    "\n",
    "for i in range(len(classes)):\n",
    "    x_test_i = x_test[y_test==i][0:n_samples_test]\n",
    "    if (i==0):\n",
    "        x_test_new = x_test_i\n",
    "    else:\n",
    "        x_test_new = np.concatenate((x_test_new, x_test_i), axis=0)\n",
    "\n",
    "# labels test set\n",
    "for i in range(len(classes)):\n",
    "    y_test_i = y_test[y_test==i][0:n_samples_test]\n",
    "    if (i==0):\n",
    "        y_test_new = y_test_i\n",
    "    else:\n",
    "        y_test_new = np.concatenate((y_test_new, y_test_i), axis=0)\n",
    "\n",
    "        \n",
    "x_train = x_train_new\n",
    "y_train = y_train_new\n",
    "x_test = x_test_new\n",
    "y_test = y_test_new\n",
    "\n",
    "\n",
    "#normalization\n",
    "x_train /= 255 \n",
    "x_test /= 255\n",
    "\n",
    "classes = np.unique(y_train);\n",
    "num_classes = len(classes)\n",
    "\n",
    "#convert class vectors to binary class matrices\n",
    "# y_train = keras.utils.to_categorical(y_train, num_classes)\n",
    "# y_test = keras.utils.to_categorical(y_test, num_classes)\n",
    "\n",
    "print(x_train.shape[0], 'train samples')\n",
    "print(x_test.shape[0], 'test samples')"
   ]
  },
  {
   "cell_type": "code",
   "execution_count": 8,
   "metadata": {
    "collapsed": false,
    "deletable": true,
    "editable": true
   },
   "outputs": [
    {
     "name": "stdout",
     "output_type": "stream",
     "text": [
      "Best train accuracy: 0.7965\n",
      "Best test accuracy: 0.81\n"
     ]
    }
   ],
   "source": [
    "n_folds = 10\n",
    "n_inits = 2\n",
    "output_train=np.zeros((n_folds,2000))\n",
    "output_test={}\n",
    "best_accuracy = 0\n",
    "for ifold in range(n_folds):\n",
    "    \n",
    "    data_train, data_test, trgt_train, trgt_test = train_test_split(x_train, y_train, test_size=0.0909)\n",
    "    #print data_train.shape[0], 'train samples'\n",
    "    #print data_test.shape[0], 'test samples'\n",
    "\n",
    "    #train Supervised Kohonen Map\n",
    "    #data = x_train\n",
    "    #trgt = y_train\n",
    "\n",
    "    trn_params = Trn.TrnParams()\n",
    "\n",
    "    trn_params.learning_rate = 0.01\n",
    "#     W0 = np.array([np.mean(data[trgt==0], axis=0), np.mean(data[trgt==1], axis=0), np.mean(data[trgt==2], axis=0),\n",
    "#                   np.mean(data[trgt==3], axis=0), np.mean(data[trgt==4], axis=0), np.mean(data[trgt==5], axis=0),\n",
    "#                   np.mean(data[trgt==6], axis=0), np.mean(data[trgt==7], axis=0), np.mean(data[trgt==8], axis=0),\n",
    "#                   np.mean(data[trgt==9], axis=0)])\n",
    "    #kohonen_obj = KohonenClass.KohonenSup(W0=W0)\n",
    "    kohonen_obj = KohonenClass.KohonenSup()\n",
    "    kohonen_obj.fit(data=data_train,trgt=trgt_train.astype(int),trn_params=trn_params)\n",
    "    output_train[ifold] = kohonen_obj.predict(data=data_train)\n",
    "    output_test[ifold] =  kohonen_obj.predict(data=data_test)\n",
    "    \n",
    "    accuracy_train = accuracy_score(trgt_train, output_train[ifold])\n",
    "    accuracy_test = accuracy_score(trgt_test, output_test[ifold])\n",
    "    if (accuracy_test > best_accuracy):\n",
    "        best_test_accuracy = accuracy_test\n",
    "        best_train_accuracy = accuracy_train\n",
    "        best_output_train = output_train[ifold]\n",
    "        best_output_test = output_test[ifold]\n",
    "        best_data_train = data_train\n",
    "        best_data_test = data_test\n",
    "        best_trgt_train = trgt_train\n",
    "        best_trgt_test = trgt_test\n",
    "\n",
    "print 'Best train accuracy:', best_train_accuracy\n",
    "print 'Best test accuracy:', best_test_accuracy"
   ]
  },
  {
   "cell_type": "code",
   "execution_count": 4,
   "metadata": {
    "collapsed": false,
    "deletable": true,
    "editable": true
   },
   "outputs": [
    {
     "data": {
      "image/png": "[encoded data removed]",
      "text/plain": [
       "<matplotlib.figure.Figure at 0x10447ac50>"
      ]
     },
     "metadata": {},
     "output_type": "display_data"
    }
   ],
   "source": [
    "# plot cluster centers\n",
    "output_train = best_output_train\n",
    "data_train = best_data_train \n",
    "trgt_train = best_trgt_train\n",
    "\n",
    "cluster_centers = kohonen_obj.clusters\n",
    "n_clusters = np.shape(cluster_centers)[0]\n",
    "most_freq = np.zeros(n_clusters)\n",
    "freq = np.zeros([n_clusters, len(np.unique(trgt_train))])\n",
    "\n",
    "for icluster in range(n_clusters):\n",
    "    id_clusters = np.unique(output_train).astype(int)\n",
    "    labels = trgt_train[output_train==id_clusters[icluster]]\n",
    "    #print labels\n",
    "    for iclass in range(len(np.unique(trgt_train))):\n",
    "        freq[icluster,iclass]=np.sum(labels==iclass)\n",
    "    \n",
    "    most_freq[icluster] = np.argmax(np.bincount(labels))\n",
    "    \n",
    "plt.rcParams['lines.linewidth'] = 2\n",
    "plt.rcParams['legend.handlelength'] = 3\n",
    "plt.rcParams['legend.borderpad'] = 0.3\n",
    "plt.rcParams['legend.numpoints'] = 1\n",
    "\n",
    "nrows = 2\n",
    "ncols = 5\n",
    "irow = 0\n",
    "icolumn = 0\n",
    "fig, ax = plt.subplots(figsize=(10,4),nrows=nrows, ncols=ncols)\n",
    "plt.suptitle('Cluster Centers')\n",
    "\n",
    "for cluster in range(np.shape(cluster_centers)[0]):\n",
    "    img = cluster_centers[cluster];\n",
    "    img = img.reshape(28,28);\n",
    "\n",
    "    ax[irow,icolumn].imshow(img,cmap='gray',interpolation=\"nearest\")\n",
    "    ax[irow,icolumn].set_title(str(int(most_freq[cluster])))\n",
    "    ax[irow,icolumn].get_xaxis().set_visible(False)\n",
    "    ax[irow,icolumn].get_yaxis().set_visible(False)\n",
    "    \n",
    "    if (icolumn+1 == ncols):\n",
    "        icolumn = 0\n",
    "        irow = irow + 1\n",
    "    else:\n",
    "        icolumn = icolumn + 1\n",
    "        \n",
    "if cluster < (nrows*ncols):\n",
    "    for i in range(cluster,nrows*ncols-1):\n",
    "        ax[irow,icolumn].set_visible(False)\n",
    "        \n",
    "        if (icolumn+1 == ncols):\n",
    "            icolumn = 0\n",
    "            irow = irow + 1\n",
    "        else:\n",
    "            icolumn = icolumn + 1\n",
    "            "
   ]
  },
  {
   "cell_type": "code",
   "execution_count": 5,
   "metadata": {
    "collapsed": false,
    "deletable": true,
    "editable": true
   },
   "outputs": [
    {
     "data": {
      "image/png": "[encoded data removed]",
      "text/plain": [
       "<matplotlib.figure.Figure at 0x104464fd0>"
      ]
     },
     "metadata": {},
     "output_type": "display_data"
    }
   ],
   "source": [
    "output_train = best_output_train\n",
    "data_train = best_data_train \n",
    "trgt_train = best_trgt_train\n",
    "\n",
    "#showing cluster frequencies - train data\n",
    "cluster_centers = kohonen_obj.clusters\n",
    "n_clusters = np.shape(cluster_centers)[0]\n",
    "most_freq = np.zeros(n_clusters)\n",
    "freq = np.zeros([n_clusters, len(np.unique(trgt_train))])\n",
    "\n",
    "for icluster in range(n_clusters):\n",
    "    id_clusters = np.unique(output_train).astype(int)\n",
    "    labels = trgt_train[output_train==id_clusters[icluster]]\n",
    "    \n",
    "    for iclass in range(len(np.unique(trgt_train))):\n",
    "        freq[icluster,iclass]=np.sum(labels==iclass)\n",
    "    \n",
    "    most_freq[icluster] = np.argmax(np.bincount(labels))\n",
    "    \n",
    "plt.rcParams['lines.linewidth'] = 2\n",
    "plt.rcParams['legend.handlelength'] = 3\n",
    "plt.rcParams['legend.borderpad'] = 0.3\n",
    "plt.rcParams['legend.numpoints'] = 1\n",
    "\n",
    "nrows = 2\n",
    "ncols = 5\n",
    "irow = 0\n",
    "icolumn = 0\n",
    "fig, ax = plt.subplots(figsize=(10,5),nrows=nrows, ncols=ncols)\n",
    "plt.suptitle('Frequencies - Training Data')\n",
    "for cluster in range(np.shape(cluster_centers)[0]):\n",
    "    val = freq[cluster,:]/np.sum(freq[cluster,:])\n",
    "    pos = np.arange(len(np.unique(y_train)))\n",
    "    \n",
    "    ax[irow,icolumn].barh(pos,val, align='center')\n",
    "    ax[irow,icolumn].get_yaxis().set_ticks(pos)\n",
    "    if (irow==nrows-1):\n",
    "        ax[irow,icolumn].set_xlabel('Norm. Frequency')\n",
    "    if (icolumn==0):\n",
    "        ax[irow,icolumn].set_ylabel('Classes')\n",
    "\n",
    "    if (icolumn+1 == ncols):\n",
    "        icolumn = 0\n",
    "        irow = irow + 1\n",
    "    else:\n",
    "        icolumn = icolumn + 1\n",
    "\n",
    "if cluster < (nrows*ncols):\n",
    "    for i in range(cluster,nrows*ncols-1):\n",
    "        ax[irow,icolumn].set_visible(False)\n",
    "        \n",
    "        if (icolumn+1 == ncols):\n",
    "            icolumn = 0\n",
    "            irow = irow + 1\n",
    "        else:\n",
    "            icolumn = icolumn + 1"
   ]
  },
  {
   "cell_type": "code",
   "execution_count": 6,
   "metadata": {
    "collapsed": false
   },
   "outputs": [
    {
     "data": {
      "image/png": "[encoded data removed]",
      "text/plain": [
       "<matplotlib.figure.Figure at 0x10048acd0>"
      ]
     },
     "metadata": {},
     "output_type": "display_data"
    }
   ],
   "source": [
    "output_test = best_output_test\n",
    "data_test = best_data_test\n",
    "trgt_test = best_trgt_test\n",
    "\n",
    "#showing cluster frequencies - test data\n",
    "cluster_centers = kohonen_obj.clusters\n",
    "n_clusters = np.shape(cluster_centers)[0]\n",
    "most_freq = np.zeros(n_clusters)\n",
    "freq = np.zeros([n_clusters, len(np.unique(trgt_test))])\n",
    "\n",
    "for icluster in range(n_clusters):\n",
    "    id_clusters = np.unique(output_test).astype(int)\n",
    "    labels = trgt_test[output_test==id_clusters[icluster]]\n",
    "    \n",
    "    for iclass in range(len(np.unique(trgt_test))):\n",
    "        freq[icluster,iclass]=np.sum(labels==iclass)\n",
    "    \n",
    "    most_freq[icluster] = np.argmax(np.bincount(labels))\n",
    "    \n",
    "plt.rcParams['lines.linewidth'] = 2\n",
    "plt.rcParams['legend.handlelength'] = 3\n",
    "plt.rcParams['legend.borderpad'] = 0.3\n",
    "plt.rcParams['legend.numpoints'] = 1\n",
    "\n",
    "nrows = 2\n",
    "ncols = 5\n",
    "irow = 0\n",
    "icolumn = 0\n",
    "fig, ax = plt.subplots(figsize=(10,5),nrows=nrows, ncols=ncols)\n",
    "plt.suptitle('Frequencies - Test Data')\n",
    "for cluster in range(np.shape(cluster_centers)[0]):\n",
    "    val = freq[cluster,:]/np.sum(freq[cluster,:])\n",
    "    pos = np.arange(len(np.unique(y_test)))\n",
    "    \n",
    "    ax[irow,icolumn].barh(pos,val, align='center')\n",
    "    ax[irow,icolumn].get_yaxis().set_ticks(pos)\n",
    "    if (irow==nrows-1):\n",
    "        ax[irow,icolumn].set_xlabel('Norm. Frequency')\n",
    "    if (icolumn==0):\n",
    "        ax[irow,icolumn].set_ylabel('Classes')\n",
    "\n",
    "    if (icolumn+1 == ncols):\n",
    "        icolumn = 0\n",
    "        irow = irow + 1\n",
    "    else:\n",
    "        icolumn = icolumn + 1\n",
    "\n",
    "if cluster < (nrows*ncols):\n",
    "    for i in range(cluster,nrows*ncols-1):\n",
    "        ax[irow,icolumn].set_visible(False)\n",
    "        \n",
    "        if (icolumn+1 == ncols):\n",
    "            icolumn = 0\n",
    "            irow = irow + 1\n",
    "        else:\n",
    "            icolumn = icolumn + 1"
   ]
  },
  {
   "cell_type": "code",
   "execution_count": 9,
   "metadata": {
    "collapsed": false
   },
   "outputs": [
    {
     "ename": "ValueError",
     "evalue": "Found input variables with inconsistent numbers of samples: [2000, 10]",
     "output_type": "error",
     "traceback": [
      "\u001b[0;31m---------------------------------------------------------------------------\u001b[0m",
      "\u001b[0;31mValueError\u001b[0m                                Traceback (most recent call last)",
      "\u001b[0;32m<ipython-input-9-9a50dd4eb512>\u001b[0m in \u001b[0;36m<module>\u001b[0;34m()\u001b[0m\n\u001b[1;32m      1\u001b[0m \u001b[0;31m#accuracy calculation\u001b[0m\u001b[0;34m\u001b[0m\u001b[0;34m\u001b[0m\u001b[0m\n\u001b[0;32m----> 2\u001b[0;31m \u001b[0maccuracy_train\u001b[0m \u001b[0;34m=\u001b[0m \u001b[0maccuracy_score\u001b[0m\u001b[0;34m(\u001b[0m\u001b[0mtrgt_train\u001b[0m\u001b[0;34m,\u001b[0m \u001b[0moutput_train\u001b[0m\u001b[0;34m)\u001b[0m\u001b[0;34m\u001b[0m\u001b[0m\n\u001b[0m\u001b[1;32m      3\u001b[0m \u001b[0;32mprint\u001b[0m \u001b[0;34m'Train accuracy: '\u001b[0m\u001b[0;34m,\u001b[0m\u001b[0maccuracy_train\u001b[0m\u001b[0;34m\u001b[0m\u001b[0m\n\u001b[1;32m      4\u001b[0m \u001b[0;34m\u001b[0m\u001b[0m\n\u001b[1;32m      5\u001b[0m \u001b[0maccuracy_test\u001b[0m \u001b[0;34m=\u001b[0m \u001b[0maccuracy_score\u001b[0m\u001b[0;34m(\u001b[0m\u001b[0mtrgt_test\u001b[0m\u001b[0;34m,\u001b[0m \u001b[0moutput_test\u001b[0m\u001b[0;34m)\u001b[0m\u001b[0;34m\u001b[0m\u001b[0m\n",
      "\u001b[0;32m/Users/hellen/.virtualenvs/se2017/lib/python2.7/site-packages/sklearn/metrics/classification.pyc\u001b[0m in \u001b[0;36maccuracy_score\u001b[0;34m(y_true, y_pred, normalize, sample_weight)\u001b[0m\n\u001b[1;32m    170\u001b[0m \u001b[0;34m\u001b[0m\u001b[0m\n\u001b[1;32m    171\u001b[0m     \u001b[0;31m# Compute accuracy for each possible representation\u001b[0m\u001b[0;34m\u001b[0m\u001b[0;34m\u001b[0m\u001b[0m\n\u001b[0;32m--> 172\u001b[0;31m     \u001b[0my_type\u001b[0m\u001b[0;34m,\u001b[0m \u001b[0my_true\u001b[0m\u001b[0;34m,\u001b[0m \u001b[0my_pred\u001b[0m \u001b[0;34m=\u001b[0m \u001b[0m_check_targets\u001b[0m\u001b[0;34m(\u001b[0m\u001b[0my_true\u001b[0m\u001b[0;34m,\u001b[0m \u001b[0my_pred\u001b[0m\u001b[0;34m)\u001b[0m\u001b[0;34m\u001b[0m\u001b[0m\n\u001b[0m\u001b[1;32m    173\u001b[0m     \u001b[0;32mif\u001b[0m \u001b[0my_type\u001b[0m\u001b[0;34m.\u001b[0m\u001b[0mstartswith\u001b[0m\u001b[0;34m(\u001b[0m\u001b[0;34m'multilabel'\u001b[0m\u001b[0;34m)\u001b[0m\u001b[0;34m:\u001b[0m\u001b[0;34m\u001b[0m\u001b[0m\n\u001b[1;32m    174\u001b[0m         \u001b[0mdiffering_labels\u001b[0m \u001b[0;34m=\u001b[0m \u001b[0mcount_nonzero\u001b[0m\u001b[0;34m(\u001b[0m\u001b[0my_true\u001b[0m \u001b[0;34m-\u001b[0m \u001b[0my_pred\u001b[0m\u001b[0;34m,\u001b[0m \u001b[0maxis\u001b[0m\u001b[0;34m=\u001b[0m\u001b[0;36m1\u001b[0m\u001b[0;34m)\u001b[0m\u001b[0;34m\u001b[0m\u001b[0m\n",
      "\u001b[0;32m/Users/hellen/.virtualenvs/se2017/lib/python2.7/site-packages/sklearn/metrics/classification.pyc\u001b[0m in \u001b[0;36m_check_targets\u001b[0;34m(y_true, y_pred)\u001b[0m\n\u001b[1;32m     70\u001b[0m     \u001b[0my_pred\u001b[0m \u001b[0;34m:\u001b[0m \u001b[0marray\u001b[0m \u001b[0;32mor\u001b[0m \u001b[0mindicator\u001b[0m \u001b[0mmatrix\u001b[0m\u001b[0;34m\u001b[0m\u001b[0m\n\u001b[1;32m     71\u001b[0m     \"\"\"\n\u001b[0;32m---> 72\u001b[0;31m     \u001b[0mcheck_consistent_length\u001b[0m\u001b[0;34m(\u001b[0m\u001b[0my_true\u001b[0m\u001b[0;34m,\u001b[0m \u001b[0my_pred\u001b[0m\u001b[0;34m)\u001b[0m\u001b[0;34m\u001b[0m\u001b[0m\n\u001b[0m\u001b[1;32m     73\u001b[0m     \u001b[0mtype_true\u001b[0m \u001b[0;34m=\u001b[0m \u001b[0mtype_of_target\u001b[0m\u001b[0;34m(\u001b[0m\u001b[0my_true\u001b[0m\u001b[0;34m)\u001b[0m\u001b[0;34m\u001b[0m\u001b[0m\n\u001b[1;32m     74\u001b[0m     \u001b[0mtype_pred\u001b[0m \u001b[0;34m=\u001b[0m \u001b[0mtype_of_target\u001b[0m\u001b[0;34m(\u001b[0m\u001b[0my_pred\u001b[0m\u001b[0;34m)\u001b[0m\u001b[0;34m\u001b[0m\u001b[0m\n",
      "\u001b[0;32m/Users/hellen/.virtualenvs/se2017/lib/python2.7/site-packages/sklearn/utils/validation.pyc\u001b[0m in \u001b[0;36mcheck_consistent_length\u001b[0;34m(*arrays)\u001b[0m\n\u001b[1;32m    179\u001b[0m     \u001b[0;32mif\u001b[0m \u001b[0mlen\u001b[0m\u001b[0;34m(\u001b[0m\u001b[0muniques\u001b[0m\u001b[0;34m)\u001b[0m \u001b[0;34m>\u001b[0m \u001b[0;36m1\u001b[0m\u001b[0;34m:\u001b[0m\u001b[0;34m\u001b[0m\u001b[0m\n\u001b[1;32m    180\u001b[0m         raise ValueError(\"Found input variables with inconsistent numbers of\"\n\u001b[0;32m--> 181\u001b[0;31m                          \" samples: %r\" % [int(l) for l in lengths])\n\u001b[0m\u001b[1;32m    182\u001b[0m \u001b[0;34m\u001b[0m\u001b[0m\n\u001b[1;32m    183\u001b[0m \u001b[0;34m\u001b[0m\u001b[0m\n",
      "\u001b[0;31mValueError\u001b[0m: Found input variables with inconsistent numbers of samples: [2000, 10]"
     ]
    }
   ],
   "source": [
    "#accuracy calculation\n",
    "accuracy_train = accuracy_score(trgt_train, output_train)\n",
    "print 'Train accuracy: ',accuracy_train\n",
    "\n",
    "accuracy_test = accuracy_score(trgt_test, output_test)\n",
    "print 'Test accuracy: ',accuracy_test"
   ]
  },
  {
   "cell_type": "code",
   "execution_count": null,
   "metadata": {
    "collapsed": false
   },
   "outputs": [],
   "source": []
  }
 ],
 "metadata": {
  "kernelspec": {
   "display_name": "Python 2",
   "language": "python",
   "name": "python2"
  },
  "language_info": {
   "codemirror_mode": {
    "name": "ipython",
    "version": 2
   },
   "file_extension": ".py",
   "mimetype": "text/x-python",
   "name": "python",
   "nbconvert_exporter": "python",
   "pygments_lexer": "ipython2",
   "version": "2.7.12"
  }
 },
 "nbformat": 4,
 "nbformat_minor": 2
}
