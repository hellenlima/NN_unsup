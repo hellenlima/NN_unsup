{
 "cells": [
  {
   "cell_type": "code",
   "execution_count": null,
   "metadata": {
    "collapsed": true
   },
   "outputs": [],
   "source": [
    "%time\n",
    "import os\n",
    "import numpy as np\n",
    "\n",
    "import matplotlib.pyplot as plt\n",
    "%matplotlib inline\n",
    "\n",
    "from sklearn import datasets\n",
    "from sklearn import cross_validation\n",
    "from sklearn import preprocessing\n",
    "from sklearn import metrics\n",
    "\n",
    "from sklearn.cluster import KMeans\n",
    "\n",
    "m_font_size = 20"
   ]
  },
  {
   "cell_type": "code",
   "execution_count": null,
   "metadata": {
    "collapsed": true
   },
   "outputs": [],
   "source": [
    "def mean_inter_cluster_dist(cluster_centers):\n",
    "    #cluster_centers = kmeans.cluster_centers_\n",
    "    mean_clusters = np.mean(cluster_centers,axis=0);\n",
    "    n_clusters = clusters_centers.size;\n",
    "    f_out = 0\n",
    "    \n",
    "    for k in range(n_clusters):\n",
    "        squared_norm_diff = np.linalg.norm(kmeans.cluster_centers_[k]-mean_clusters,ord=2)#**2?\n",
    "        n_members = float(sum(output==k))\n",
    "        f_out = f_out + n_members*squared_norm_diff\n",
    "        \n",
    "    return f_out\n",
    "\n",
    "def davies_bouldin_index(cluster_centers, data, output): #output is the classification of the data\n",
    "    #Davies-Bouldin Index\n",
    "    #Dkj = (dk +dj)/dkj\n",
    "    n_clusters = cluster_centers.size;\n",
    "    new_DB = 0\n",
    "    intra_mean = np.zeros([n_clusters,1])\n",
    "    for k in range(n_clusters): #for each cluster\n",
    "        dist = data[output==k]-cluster_centers[k]\n",
    "        #norma 2 da distancia entre cada ponto do cluster e o centroid do msm\n",
    "        intra_mean[k] = np.linalg.norm(dist,ord=2)/sum(output==k)\n",
    "    Dkj = np.zeros([n_clusters,n_clusters])\n",
    "    for k_cluster in range(n_clusters):\n",
    "        for j_cluster in range(n_clusters):\n",
    "            if (k_cluster==j_cluster):\n",
    "                continue\n",
    "            dist_clusters = np.linalg.norm(cluster_centers[k_cluster]-cluster_centers[j_cluster],ord=2)\n",
    "            Dkj[k_cluster,j_cluster] = (intra_mean[k_cluster]+intra_mean[j_cluster])/dist_clusters\n",
    "    \n",
    "    DB_index = sum(np.max(Dkj,axis=0))/float(n_clusters)  \n",
    "    \n",
    "    return DB_index"
   ]
  }
 ],
 "metadata": {
  "kernelspec": {
   "display_name": "Python 2",
   "language": "python",
   "name": "python2"
  },
  "language_info": {
   "codemirror_mode": {
    "name": "ipython",
    "version": 2
   },
   "file_extension": ".py",
   "mimetype": "text/x-python",
   "name": "python",
   "nbconvert_exporter": "python",
   "pygments_lexer": "ipython2",
   "version": "2.7.12"
  }
 },
 "nbformat": 4,
 "nbformat_minor": 2
}
