{
 "cells": [
  {
   "cell_type": "code",
   "execution_count": 1,
   "metadata": {
    "collapsed": false
   },
   "outputs": [
    {
     "name": "stdout",
     "output_type": "stream",
     "text": [
      "CPU times: user 4 µs, sys: 5 µs, total: 9 µs\n",
      "Wall time: 11.2 µs\n"
     ]
    },
    {
     "name": "stderr",
     "output_type": "stream",
     "text": [
      "Using Theano backend.\n",
      "/Users/hellen/.virtualenvs/se2017/lib/python2.7/site-packages/sklearn/cross_validation.py:44: DeprecationWarning: This module was deprecated in version 0.18 in favor of the model_selection module into which all the refactored classes and functions are moved. Also note that the interface of the new CV iterators are different from that of this module. This module will be removed in 0.20.\n",
      "  \"This module will be removed in 0.20.\", DeprecationWarning)\n"
     ]
    }
   ],
   "source": [
    "%time\n",
    "import os\n",
    "import keras\n",
    "from keras.datasets import mnist\n",
    "\n",
    "from sklearn import datasets\n",
    "from sklearn import cross_validation\n",
    "from sklearn import preprocessing\n",
    "from sklearn import metrics\n",
    "\n",
    "from sklearn.cluster import KMeans\n",
    "import numpy as np\n",
    "import matplotlib.pyplot as plt\n",
    "%matplotlib inline"
   ]
  },
  {
   "cell_type": "code",
   "execution_count": 2,
   "metadata": {
    "collapsed": false
   },
   "outputs": [
    {
     "name": "stdout",
     "output_type": "stream",
     "text": [
      "(1000, 'train samples')\n",
      "(100, 'test samples')\n"
     ]
    }
   ],
   "source": [
    "(x_train, y_train), (x_test, y_test) = mnist.load_data();\n",
    "\n",
    "x_train = x_train.reshape(60000, 784)\n",
    "x_test = x_test.reshape(10000, 784)\n",
    "x_train = x_train.astype('float32')\n",
    "x_test = x_test.astype('float32')\n",
    "\n",
    "#training set\n",
    "n_samples = 100; #n_samples for each class\n",
    "x_0 = x_train[y_train==0][0:n_samples];\n",
    "x_1 = x_train[y_train==1][0:n_samples];\n",
    "x_2 = x_train[y_train==2][0:n_samples];\n",
    "x_3 = x_train[y_train==3][0:n_samples];\n",
    "x_4 = x_train[y_train==4][0:n_samples];\n",
    "x_5 = x_train[y_train==5][0:n_samples];\n",
    "x_6 = x_train[y_train==6][0:n_samples];\n",
    "x_7 = x_train[y_train==7][0:n_samples];\n",
    "x_8 = x_train[y_train==8][0:n_samples];\n",
    "x_9 = x_train[y_train==9][0:n_samples];\n",
    "\n",
    "x_train = np.concatenate((x_0,x_1,x_2,x_3, x_4, x_5, x_6, x_7, x_8, x_9), axis=0)\n",
    "\n",
    "#labels training set\n",
    "y_0 = y_train[y_train==0][0:n_samples];\n",
    "y_1 = y_train[y_train==1][0:n_samples];\n",
    "y_2 = y_train[y_train==2][0:n_samples];\n",
    "y_3 = y_train[y_train==3][0:n_samples];\n",
    "y_4 = y_train[y_train==4][0:n_samples];\n",
    "y_5 = y_train[y_train==5][0:n_samples];\n",
    "y_6 = y_train[y_train==6][0:n_samples];\n",
    "y_7 = y_train[y_train==7][0:n_samples];\n",
    "y_8 = y_train[y_train==8][0:n_samples];\n",
    "y_9 = y_train[y_train==9][0:n_samples];\n",
    "\n",
    "y_train = np.concatenate((y_0, y_1, y_2, y_3, y_4, y_5, y_6, y_7, y_8, y_9), axis=0)\n",
    "\n",
    "#test set\n",
    "# n_samples_test = 10; #n_samples for each class\n",
    "# x_test_0 = x_test[y_test==0][0:n_samples_test]; \n",
    "# x_test_1 = x_test[y_test==1][0:n_samples_test]; \n",
    "# x_test_2 = x_test[y_test==2][0:n_samples_test]; \n",
    "# x_test_3 = x_test[y_test==3][0:n_samples_test]; \n",
    "# x_test_4 = x_test[y_test==4][0:n_samples_test]; \n",
    "# x_test_5 = x_test[y_test==5][0:n_samples_test]; \n",
    "# x_test_6 = x_test[y_test==6][0:n_samples_test]; \n",
    "# x_test_7 = x_test[y_test==7][0:n_samples_test]; \n",
    "# x_test_8 = x_test[y_test==8][0:n_samples_test]; \n",
    "# x_test_9 = x_test[y_test==9][0:n_samples_test]; \n",
    "\n",
    "# x_test = np.concatenate((x_test_0,x_test_1,x_test_2,x_test_3, x_test_4, \n",
    "#                          x_test_5, x_test_6, x_test_7, x_test_8, x_test_9), axis=0)\n",
    "\n",
    "classes = np.unique(y_test)\n",
    "n_samples_test = 10; #n_samples for each class\n",
    "\n",
    "for i in range(len(classes)):\n",
    "    x_test_i = x_test[y_test==i][0:n_samples_test]\n",
    "    if (i==0):\n",
    "        x_test_new = x_test_i\n",
    "    else:\n",
    "        x_test_new = np.concatenate((x_test_new, x_test_i), axis=0)\n",
    "\n",
    "# labels test set\n",
    "# y_test_0 = y_test[y_test==0][0:n_samples_test]; \n",
    "# y_test_1 = y_test[y_test==1][0:n_samples_test]; \n",
    "# y_test_2 = y_test[y_test==2][0:n_samples_test]; \n",
    "# y_test_3 = y_test[y_test==3][0:n_samples_test]; \n",
    "# y_test_4 = y_test[y_test==4][0:n_samples_test]; \n",
    "# y_test_5 = y_test[y_test==5][0:n_samples_test]; \n",
    "# y_test_6 = y_test[y_test==6][0:n_samples_test]; \n",
    "# y_test_7 = y_test[y_test==7][0:n_samples_test]; \n",
    "# y_test_8 = y_test[y_test==8][0:n_samples_test]; \n",
    "# y_test_9 = y_test[y_test==9][0:n_samples_test]; \n",
    "\n",
    "# y_test = np.concatenate((y_test_0, y_test_1, y_test_2, y_test_3, y_test_4, \n",
    "#                          y_test_5, y_test_6, y_test_7, y_test_8, y_test_9), axis=0)\n",
    "\n",
    "for i in range(len(classes)):\n",
    "    y_test_i = y_test[y_test==i][0:n_samples_test]\n",
    "    if (i==0):\n",
    "        y_test_new = y_test_i\n",
    "    else:\n",
    "        y_test_new = np.concatenate((y_test_new, y_test_i), axis=0)\n",
    "\n",
    "x_test = x_test_new\n",
    "y_test = y_test_new\n",
    "\n",
    "\n",
    "#normalization\n",
    "x_train /= 255 \n",
    "x_test /= 255\n",
    "\n",
    "classes = np.unique(y_train);\n",
    "num_classes = len(classes)\n",
    "\n",
    "#convert class vectors to binary class matrices\n",
    "y_train = keras.utils.to_categorical(y_train, num_classes)\n",
    "y_test = keras.utils.to_categorical(y_test, num_classes)\n",
    "\n",
    "print(x_train.shape[0], 'train samples')\n",
    "print(x_test.shape[0], 'test samples')"
   ]
  }
 ],
 "metadata": {
  "kernelspec": {
   "display_name": "Python 2",
   "language": "python",
   "name": "python2"
  },
  "language_info": {
   "codemirror_mode": {
    "name": "ipython",
    "version": 2
   },
   "file_extension": ".py",
   "mimetype": "text/x-python",
   "name": "python",
   "nbconvert_exporter": "python",
   "pygments_lexer": "ipython2",
   "version": "2.7.12"
  }
 },
 "nbformat": 4,
 "nbformat_minor": 2
}
