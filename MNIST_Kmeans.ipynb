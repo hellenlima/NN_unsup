{
 "cells": [
  {
   "cell_type": "code",
   "execution_count": 1,
   "metadata": {
    "collapsed": false,
    "deletable": true,
    "editable": true
   },
   "outputs": [
    {
     "name": "stdout",
     "output_type": "stream",
     "text": [
      "CPU times: user 2 µs, sys: 0 ns, total: 2 µs\n",
      "Wall time: 7.15 µs\n"
     ]
    },
    {
     "name": "stderr",
     "output_type": "stream",
     "text": [
      "Using Theano backend.\n",
      "/Users/hellen/.virtualenvs/se2017/lib/python2.7/site-packages/sklearn/cross_validation.py:44: DeprecationWarning: This module was deprecated in version 0.18 in favor of the model_selection module into which all the refactored classes and functions are moved. Also note that the interface of the new CV iterators are different from that of this module. This module will be removed in 0.20.\n",
      "  \"This module will be removed in 0.20.\", DeprecationWarning)\n"
     ]
    }
   ],
   "source": [
    "%time\n",
    "import os\n",
    "import keras\n",
    "from keras.datasets import mnist\n",
    "\n",
    "from sklearn import datasets\n",
    "from sklearn import cross_validation\n",
    "from sklearn import preprocessing\n",
    "from sklearn import metrics\n",
    "\n",
    "from sklearn.cluster import KMeans\n",
    "import numpy as np\n",
    "import matplotlib.pyplot as plt\n",
    "%matplotlib inline"
   ]
  },
  {
   "cell_type": "code",
   "execution_count": 2,
   "metadata": {
    "collapsed": false,
    "deletable": true,
    "editable": true
   },
   "outputs": [
    {
     "name": "stdout",
     "output_type": "stream",
     "text": [
      "(1000, 'train samples')\n",
      "(100, 'test samples')\n"
     ]
    }
   ],
   "source": [
    "(x_train, y_train), (x_test, y_test) = mnist.load_data();\n",
    "\n",
    "x_train = x_train.reshape(60000, 784)\n",
    "x_test = x_test.reshape(10000, 784)\n",
    "x_train = x_train.astype('float32')\n",
    "x_test = x_test.astype('float32')\n",
    "\n",
    "#training set\n",
    "n_samples = 100; #n_samples for each class\n",
    "x_0 = x_train[y_train==0][0:n_samples];\n",
    "x_1 = x_train[y_train==1][0:n_samples];\n",
    "x_2 = x_train[y_train==2][0:n_samples];\n",
    "x_3 = x_train[y_train==3][0:n_samples];\n",
    "x_4 = x_train[y_train==4][0:n_samples];\n",
    "x_5 = x_train[y_train==5][0:n_samples];\n",
    "x_6 = x_train[y_train==6][0:n_samples];\n",
    "x_7 = x_train[y_train==7][0:n_samples];\n",
    "x_8 = x_train[y_train==8][0:n_samples];\n",
    "x_9 = x_train[y_train==9][0:n_samples];\n",
    "\n",
    "x_train = np.concatenate((x_0,x_1,x_2,x_3, x_4, x_5, x_6, x_7, x_8, x_9), axis=0)\n",
    "\n",
    "#labels training set\n",
    "y_0 = y_train[y_train==0][0:n_samples];\n",
    "y_1 = y_train[y_train==1][0:n_samples];\n",
    "y_2 = y_train[y_train==2][0:n_samples];\n",
    "y_3 = y_train[y_train==3][0:n_samples];\n",
    "y_4 = y_train[y_train==4][0:n_samples];\n",
    "y_5 = y_train[y_train==5][0:n_samples];\n",
    "y_6 = y_train[y_train==6][0:n_samples];\n",
    "y_7 = y_train[y_train==7][0:n_samples];\n",
    "y_8 = y_train[y_train==8][0:n_samples];\n",
    "y_9 = y_train[y_train==9][0:n_samples];\n",
    "\n",
    "y_train = np.concatenate((y_0, y_1, y_2, y_3, y_4, y_5, y_6, y_7, y_8, y_9), axis=0)\n",
    "\n",
    "#test set\n",
    "n_samples_test = 10; #n_samples for each class\n",
    "x_test_0 = x_test[y_test==0][0:n_samples_test]; \n",
    "x_test_1 = x_test[y_test==1][0:n_samples_test]; \n",
    "x_test_2 = x_test[y_test==2][0:n_samples_test]; \n",
    "x_test_3 = x_test[y_test==3][0:n_samples_test]; \n",
    "x_test_4 = x_test[y_test==4][0:n_samples_test]; \n",
    "x_test_5 = x_test[y_test==5][0:n_samples_test]; \n",
    "x_test_6 = x_test[y_test==6][0:n_samples_test]; \n",
    "x_test_7 = x_test[y_test==7][0:n_samples_test]; \n",
    "x_test_8 = x_test[y_test==8][0:n_samples_test]; \n",
    "x_test_9 = x_test[y_test==9][0:n_samples_test]; \n",
    "\n",
    "x_test = np.concatenate((x_test_0,x_test_1,x_test_2,x_test_3, x_test_4, \n",
    "                         x_test_5, x_test_6, x_test_7, x_test_8, x_test_9), axis=0)\n",
    "\n",
    "# labels test set\n",
    "y_test_0 = y_test[y_test==0][0:n_samples_test]; \n",
    "y_test_1 = y_test[y_test==1][0:n_samples_test]; \n",
    "y_test_2 = y_test[y_test==2][0:n_samples_test]; \n",
    "y_test_3 = y_test[y_test==3][0:n_samples_test]; \n",
    "y_test_4 = y_test[y_test==4][0:n_samples_test]; \n",
    "y_test_5 = y_test[y_test==5][0:n_samples_test]; \n",
    "y_test_6 = y_test[y_test==6][0:n_samples_test]; \n",
    "y_test_7 = y_test[y_test==7][0:n_samples_test]; \n",
    "y_test_8 = y_test[y_test==8][0:n_samples_test]; \n",
    "y_test_9 = y_test[y_test==9][0:n_samples_test]; \n",
    "\n",
    "y_test = np.concatenate((y_test_0, y_test_1, y_test_2, y_test_3, y_test_4, \n",
    "                         y_test_5, y_test_6, y_test_7, y_test_8, y_test_9), axis=0)\n",
    "\n",
    "#normalization\n",
    "x_train /= 255 \n",
    "x_test /= 255\n",
    "\n",
    "classes = np.unique(y_train);\n",
    "num_classes = len(classes)\n",
    "\n",
    "#convert class vectors to binary class matrices\n",
    "y_train = keras.utils.to_categorical(y_train, num_classes)\n",
    "y_test = keras.utils.to_categorical(y_test, num_classes)\n",
    "\n",
    "print(x_train.shape[0], 'train samples')\n",
    "print(x_test.shape[0], 'test samples')"
   ]
  },
  {
   "cell_type": "code",
   "execution_count": 3,
   "metadata": {
    "collapsed": true,
    "deletable": true,
    "editable": true
   },
   "outputs": [],
   "source": [
    "def mean_inter_cluster_dist(cluster_centers, data):\n",
    "    #cluster_centers = kmeans.cluster_centers_\n",
    "    #mean_clusters = np.mean(cluster_centers,axis=0);\n",
    "    mean_data = np.mean(data);\n",
    "    n_clusters = np.shape(cluster_centers)[0];\n",
    "    f_out = 0\n",
    "    \n",
    "    for k in range(n_clusters):\n",
    "        #use mean of elements?\n",
    "        squared_norm_diff = np.linalg.norm(cluster_centers[k]-mean_data,ord=2)**2\n",
    "        #squared_norm_diff = np.linalg.norm(cluster_centers[k]-mean_clusters,ord=2)**2\n",
    "        n_members = float(sum(output==k))\n",
    "        f_out = f_out + n_members*squared_norm_diff\n",
    "\n",
    "    return f_out\n",
    "\n",
    "def davies_bouldin_index(cluster_centers, data, output): #output is the classification of the data\n",
    "    #Davies-Bouldin Index\n",
    "    #Dkj = (dk +dj)/dkj\n",
    "    n_clusters = np.shape(cluster_centers)[0];\n",
    "    new_DB = 0\n",
    "    intra_mean = np.zeros([n_clusters,1])\n",
    "    for k in range(n_clusters): #for each cluster\n",
    "        dist = data[output==k]-cluster_centers[k]\n",
    "        #norma 2 da distancia entre cada ponto do cluster e o centroid do msm\n",
    "        intra_mean[k] = np.linalg.norm(dist,ord=2)/sum(output==k)\n",
    "    Dkj = np.zeros([n_clusters,n_clusters])\n",
    "    for k_cluster in range(n_clusters):\n",
    "        for j_cluster in range(n_clusters):\n",
    "            if (k_cluster==j_cluster):\n",
    "                continue\n",
    "            dist_clusters = np.linalg.norm(cluster_centers[k_cluster]-cluster_centers[j_cluster],ord=2)\n",
    "            Dkj[k_cluster,j_cluster] = (intra_mean[k_cluster]+intra_mean[j_cluster])/dist_clusters\n",
    "    \n",
    "    DB_index = sum(np.max(Dkj,axis=0))/float(n_clusters)  \n",
    "    \n",
    "    return DB_index"
   ]
  },
  {
   "cell_type": "code",
   "execution_count": 4,
   "metadata": {
    "collapsed": false,
    "deletable": true,
    "editable": true
   },
   "outputs": [],
   "source": [
    "min_clusters = 10\n",
    "max_clusters = 16\n",
    "\n",
    "data = x_train;\n",
    "\n",
    "intra_cluster = np.zeros([max_clusters,1])\n",
    "f_out = np.zeros([max_clusters,1])\n",
    "silhouette = np.zeros([max_clusters,1])\n",
    "DB_index = np.zeros([max_clusters,1])\n",
    "#output = np.zeros([max_clusters,len(data)])\n",
    "\n",
    "for i in range(min_clusters, max_clusters):\n",
    "    \n",
    "    kmeans = KMeans(n_clusters=i).fit(data)  \n",
    "    output = kmeans.predict(data)\n",
    "    \n",
    "    silhouette[i] = metrics.silhouette_score(data, output)\n",
    "    \n",
    "    #intra-cluster distance - dispersao intra classe \n",
    "    intra_cluster[i] = kmeans.inertia_\n",
    "    \n",
    "    #mean inter-cluster distance - dispersao media extra classe\n",
    "    cluster_centers = kmeans.cluster_centers_\n",
    "    f_out[i] = mean_inter_cluster_dist(cluster_centers,data)\n",
    "\n",
    "    #Davies-Bouldin Index\n",
    "    #Dkj = (dk +dj)/dkj\n",
    "    DB_index[i] = davies_bouldin_index(cluster_centers, data, output)\n",
    "\n"
   ]
  },
  {
   "cell_type": "code",
   "execution_count": 5,
   "metadata": {
    "collapsed": false,
    "deletable": true,
    "editable": true
   },
   "outputs": [
    {
     "data": {
      "image/png": "[encoded data removed]",
      "text/plain": [
       "<matplotlib.figure.Figure at 0x10a6c2e90>"
      ]
     },
     "metadata": {},
     "output_type": "display_data"
    }
   ],
   "source": [
    "fig, ax = plt.subplots(figsize=(20,5),nrows=1, ncols=4)\n",
    "\n",
    "ax[0].plot(range(max_clusters),intra_cluster,'bo-')\n",
    "ax[0].set_xlim([min_clusters, max_clusters])\n",
    "ax[0].set_title(\"Total Intra Disp. For Clusters (Inertia)\")\n",
    "ax[0].grid()\n",
    "\n",
    "ax[1].plot(range(max_clusters),f_out,'ro-' ) #plot in the same graph as intra-cluster dispersion?\n",
    "ax[1].set_xlim([min_clusters, max_clusters])\n",
    "ax[1].set_title(\"Inter Cluster Dispersion (Fout)\")\n",
    "ax[1].grid()\n",
    "\n",
    "ax[2].plot(range(max_clusters),silhouette,'go-')\n",
    "ax[2].set_xlim([min_clusters, max_clusters])\n",
    "ax[2].set_title(\"Silhouette Index\")\n",
    "ax[2].grid()\n",
    "\n",
    "ax[3].plot(range(max_clusters),DB_index,'ko-')\n",
    "ax[3].set_xlim([min_clusters, max_clusters])\n",
    "ax[3].set_title(\"DB Index\")\n",
    "ax[3].grid()"
   ]
  },
  {
   "cell_type": "code",
   "execution_count": 6,
   "metadata": {
    "collapsed": false,
    "deletable": true,
    "editable": true
   },
   "outputs": [
    {
     "name": "stdout",
     "output_type": "stream",
     "text": [
      "1: 47\n",
      "2: 12\n",
      "3: 4\n",
      "4: 2\n",
      "5: 1\n",
      "6: 7\n",
      "7: 2\n",
      "8: 5\n",
      "9: 1\n",
      " \n",
      "2: 56\n",
      "3: 1\n",
      "5: 1\n",
      " \n",
      "0: 27\n",
      "2: 1\n",
      "3: 3\n",
      "5: 14\n",
      "6: 1\n",
      "8: 2\n",
      "9: 2\n",
      " \n",
      "0: 39\n",
      "2: 2\n",
      "5: 1\n",
      " \n",
      "1: 1\n",
      "2: 4\n",
      "3: 34\n",
      "5: 18\n",
      "6: 4\n",
      "8: 19\n",
      "9: 2\n",
      " \n",
      "2: 1\n",
      "3: 2\n",
      "7: 45\n",
      "9: 7\n",
      " \n",
      "1: 50\n",
      "2: 10\n",
      "4: 1\n",
      "6: 1\n",
      "7: 6\n",
      "8: 1\n",
      "9: 1\n",
      " \n",
      "2: 2\n",
      "3: 47\n",
      "5: 18\n",
      "8: 3\n",
      "9: 1\n",
      " \n",
      "0: 1\n",
      "2: 1\n",
      "4: 2\n",
      "5: 2\n",
      "6: 74\n",
      "9: 1\n",
      " \n",
      "0: 5\n",
      "1: 1\n",
      "2: 3\n",
      "3: 1\n",
      "4: 4\n",
      "5: 35\n",
      "6: 6\n",
      "7: 3\n",
      "8: 4\n",
      "9: 7\n",
      " \n",
      "0: 27\n",
      "3: 1\n",
      "5: 1\n",
      "6: 2\n",
      " \n",
      "1: 1\n",
      "2: 3\n",
      "3: 3\n",
      "4: 17\n",
      "5: 4\n",
      "7: 26\n",
      "8: 7\n",
      "9: 46\n",
      " \n",
      "4: 49\n",
      "6: 1\n",
      "7: 1\n",
      "9: 8\n",
      " \n",
      "0: 1\n",
      "2: 1\n",
      "3: 2\n",
      "5: 1\n",
      "8: 57\n",
      " \n",
      "2: 4\n",
      "3: 2\n",
      "4: 25\n",
      "5: 4\n",
      "6: 4\n",
      "7: 17\n",
      "8: 2\n",
      "9: 24\n",
      " \n"
     ]
    },
    {
     "data": {
      "image/png": "[encoded data removed]",
      "text/plain": [
       "<matplotlib.figure.Figure at 0x1042cb150>"
      ]
     },
     "metadata": {},
     "output_type": "display_data"
    }
   ],
   "source": [
    "#showing cluster centers\n",
    "n_clusters = np.shape(cluster_centers)[0]\n",
    "most_freq = np.zeros(n_clusters)\n",
    "for icluster in range(n_clusters):\n",
    "    id_clusters = np.unique(output)\n",
    "    labels = y_train[output==id_clusters[icluster]]\n",
    "\n",
    "#    next 5 lines print cluster frequencies   \n",
    "    freq = np.bincount(np.argmax(labels, axis=1))\n",
    "\n",
    "    for i in range(len(freq)):\n",
    "        if (freq[i]):\n",
    "            print (str(i) + \": \" + str(freq[i]))\n",
    "    print \" \"\n",
    "    \n",
    "    most_freq[icluster] = np.argmax(np.bincount(np.argmax(labels, axis=1)))\n",
    "    \n",
    "plt.rcParams['lines.linewidth'] = 2\n",
    "plt.rcParams['legend.handlelength'] = 3\n",
    "plt.rcParams['legend.borderpad'] = 0.3\n",
    "plt.rcParams['legend.numpoints'] = 1\n",
    "#plt.rcParams['xtick.labelsize'] = 18\n",
    "#plt.rcParams['font.weight'] = 'bold'\n",
    "#plt.rcParams['ytick.labelsize'] = 18\n",
    "\n",
    "nrows = 1\n",
    "ncols = 15\n",
    "fig, ax = plt.subplots(figsize=(20,5),nrows=nrows, ncols=ncols)\n",
    "\n",
    "for cluster in range(np.shape(cluster_centers)[0]):\n",
    "    img = cluster_centers[cluster];\n",
    "    img = img.reshape(28,28);\n",
    "\n",
    "    ax[cluster].imshow(img,cmap='gray',interpolation=\"nearest\")\n",
    "    fig.axes[cluster].set_title(str(most_freq[cluster]))\n",
    "    fig.axes[cluster].get_xaxis().set_visible(False)\n",
    "    fig.axes[cluster].get_yaxis().set_visible(False)\n",
    " "
   ]
  },
  {
   "cell_type": "code",
   "execution_count": 7,
   "metadata": {
    "collapsed": true,
    "deletable": true,
    "editable": true
   },
   "outputs": [
    {
     "data": {
      "text/plain": [
       "<matplotlib.image.AxesImage at 0x1042cb6d0>"
      ]
     },
     "execution_count": 7,
     "metadata": {},
     "output_type": "execute_result"
    },
    {
     "data": {
      "image/png": "[encoded data removed]",
      "text/plain": [
       "<matplotlib.figure.Figure at 0x1123865d0>"
      ]
     },
     "metadata": {},
     "output_type": "display_data"
    }
   ],
   "source": [
    "#showing character\n",
    "\n",
    "img = cluster_centers[1];\n",
    "img = img.reshape(28,28);\n",
    "\n",
    "#from matplotlib.legend_handler import HandlerLine2D\n",
    "\n",
    "plt.rcParams['lines.linewidth'] = 2\n",
    "plt.rcParams['legend.handlelength'] = 3\n",
    "plt.rcParams['legend.borderpad'] = 0.3\n",
    "plt.rcParams['legend.numpoints'] = 1\n",
    "plt.rcParams['xtick.labelsize'] = 18\n",
    "plt.rcParams['font.weight'] = 'bold'\n",
    "plt.rcParams['ytick.labelsize'] = 18\n",
    "\n",
    "\n",
    "fig, ax = plt.subplots(figsize=(28,28),nrows=1, ncols=1)\n",
    "ax.imshow(img,cmap='gray',interpolation=\"nearest\")"
   ]
  }
 ],
 "metadata": {
  "kernelspec": {
   "display_name": "Python 2",
   "language": "python",
   "name": "python2"
  },
  "language_info": {
   "codemirror_mode": {
    "name": "ipython",
    "version": 2
   },
   "file_extension": ".py",
   "mimetype": "text/x-python",
   "name": "python",
   "nbconvert_exporter": "python",
   "pygments_lexer": "ipython2",
   "version": "2.7.12"
  }
 },
 "nbformat": 4,
 "nbformat_minor": 2
}
