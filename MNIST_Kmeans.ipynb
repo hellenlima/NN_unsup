{
 "cells": [
  {
   "cell_type": "code",
   "execution_count": 30,
   "metadata": {
    "collapsed": false,
    "deletable": true,
    "editable": true
   },
   "outputs": [
    {
     "name": "stdout",
     "output_type": "stream",
     "text": [
      "CPU times: user 2 µs, sys: 0 ns, total: 2 µs\n",
      "Wall time: 6.91 µs\n"
     ]
    }
   ],
   "source": [
    "%time\n",
    "import os\n",
    "import keras\n",
    "from keras.datasets import mnist\n",
    "\n",
    "from sklearn import datasets\n",
    "from sklearn import preprocessing\n",
    "from sklearn.model_selection import train_test_split\n",
    "from sklearn.metrics import accuracy_score\n",
    "\n",
    "from sklearn.cluster import KMeans\n",
    "import numpy as np\n",
    "import matplotlib.pyplot as plt\n",
    "%matplotlib inline"
   ]
  },
  {
   "cell_type": "code",
   "execution_count": 33,
   "metadata": {
    "collapsed": false,
    "deletable": true,
    "editable": true
   },
   "outputs": [
    {
     "name": "stdout",
     "output_type": "stream",
     "text": [
      "(2200, 'train samples')\n",
      "(200, 'test samples')\n"
     ]
    }
   ],
   "source": [
    "(x_train, y_train), (x_test, y_test) = mnist.load_data();\n",
    "\n",
    "x_train = x_train.reshape(60000, 784)\n",
    "x_test = x_test.reshape(10000, 784)\n",
    "x_train = x_train.astype('float32')\n",
    "x_test = x_test.astype('float32')\n",
    "\n",
    "#training set\n",
    "classes = np.unique(y_train)\n",
    "n_samples = 220; #n_samples for each class\n",
    "\n",
    "for i in range(len(classes)):\n",
    "    x_train_i = x_train[y_train==i][0:n_samples]\n",
    "    if (i==0):\n",
    "        x_train_new = x_train_i\n",
    "    else:\n",
    "        x_train_new = np.concatenate((x_train_new, x_train_i), axis=0)\n",
    "\n",
    "#labels training set\n",
    "for i in range(len(classes)):\n",
    "    y_train_i = y_train[y_train==i][0:n_samples]\n",
    "    if (i==0):\n",
    "        y_train_new = y_train_i\n",
    "    else:\n",
    "        y_train_new = np.concatenate((y_train_new, y_train_i), axis=0)\n",
    "        \n",
    "#test set\n",
    "classes = np.unique(y_test)\n",
    "n_samples_test = 20; #n_samples for each class\n",
    "\n",
    "for i in range(len(classes)):\n",
    "    x_test_i = x_test[y_test==i][0:n_samples_test]\n",
    "    if (i==0):\n",
    "        x_test_new = x_test_i\n",
    "    else:\n",
    "        x_test_new = np.concatenate((x_test_new, x_test_i), axis=0)\n",
    "\n",
    "# labels test set\n",
    "for i in range(len(classes)):\n",
    "    y_test_i = y_test[y_test==i][0:n_samples_test]\n",
    "    if (i==0):\n",
    "        y_test_new = y_test_i\n",
    "    else:\n",
    "        y_test_new = np.concatenate((y_test_new, y_test_i), axis=0)\n",
    "\n",
    "        \n",
    "x_train = x_train_new\n",
    "y_train = y_train_new\n",
    "x_test = x_test_new\n",
    "y_test = y_test_new\n",
    "\n",
    "\n",
    "#normalization\n",
    "x_train /= 255 \n",
    "x_test /= 255\n",
    "\n",
    "classes = np.unique(y_train);\n",
    "num_classes = len(classes)\n",
    "\n",
    "#convert class vectors to binary class matrices\n",
    "# y_train = keras.utils.to_categorical(y_train, num_classes)\n",
    "# y_test = keras.utils.to_categorical(y_test, num_classes)\n",
    "\n",
    "print(x_train.shape[0], 'train samples')\n",
    "print(x_test.shape[0], 'test samples')"
   ]
  },
  {
   "cell_type": "code",
   "execution_count": 79,
   "metadata": {
    "collapsed": true,
    "deletable": true,
    "editable": true
   },
   "outputs": [],
   "source": [
    "def mean_inter_cluster_dist(cluster_centers, data):\n",
    "    #cluster_centers = kmeans.cluster_centers_\n",
    "    #mean_clusters = np.mean(cluster_centers,axis=0);\n",
    "    mean_data = np.mean(data);\n",
    "    n_clusters = np.shape(cluster_centers)[0];\n",
    "    f_out = 0\n",
    "    \n",
    "    for k in range(n_clusters):\n",
    "        #use mean of elements?\n",
    "        squared_norm_diff = np.linalg.norm(cluster_centers[k]-mean_data,ord=2)**2\n",
    "        #squared_norm_diff = np.linalg.norm(cluster_centers[k]-mean_clusters,ord=2)**2\n",
    "        n_members = float(sum(output==k))\n",
    "        f_out = f_out + n_members*squared_norm_diff\n",
    "\n",
    "    return f_out\n",
    "\n",
    "def davies_bouldin_index(cluster_centers, data, output): #output is the classification of the data\n",
    "    #Davies-Bouldin Index\n",
    "    #Dkj = (dk +dj)/dkj\n",
    "    n_clusters = np.shape(cluster_centers)[0];\n",
    "    new_DB = 0\n",
    "    intra_mean = np.zeros([n_clusters,1])\n",
    "    for k in range(n_clusters): #for each cluster\n",
    "        dist = data[output==k]-cluster_centers[k]\n",
    "        #norma 2 da distancia entre cada ponto do cluster e o centroid do msm\n",
    "        intra_mean[k] = np.linalg.norm(dist,ord=2)/sum(output==k)\n",
    "    Dkj = np.zeros([n_clusters,n_clusters])\n",
    "    for k_cluster in range(n_clusters):\n",
    "        for j_cluster in range(n_clusters):\n",
    "            if (k_cluster==j_cluster):\n",
    "                continue\n",
    "            dist_clusters = np.linalg.norm(cluster_centers[k_cluster]-cluster_centers[j_cluster],ord=2)\n",
    "            Dkj[k_cluster,j_cluster] = (intra_mean[k_cluster]+intra_mean[j_cluster])/dist_clusters\n",
    "    \n",
    "    DB_index = sum(np.max(Dkj,axis=0))/float(n_clusters)  \n",
    "    \n",
    "    return DB_index\n",
    "\n",
    "def calculate_accuracy(y_true, y_pred, most_freq):\n",
    "    #most_freq contains the most frequents digits in each cluster\n",
    "    count = 0;\n",
    "    for ievent in range(len(y_true)):\n",
    "        cluster_predict = y_pred[ievent].astype(int) #prediction\n",
    "        if y_true[ievent]==most_freq[cluster_predict]:\n",
    "            count = count+1\n",
    "            \n",
    "    accuracy = count/float(len(y_true))\n",
    "    return accuracy\n",
    "    "
   ]
  },
  {
   "cell_type": "code",
   "execution_count": 101,
   "metadata": {
    "collapsed": false,
    "deletable": true,
    "editable": true
   },
   "outputs": [
    {
     "name": "stdout",
     "output_type": "stream",
     "text": [
      "Best train accuracy: 0.708\n",
      "Best test accuracy: 0.685\n"
     ]
    }
   ],
   "source": [
    "\n",
    "min_clusters = 20\n",
    "max_clusters = 21\n",
    "n_folds = 10\n",
    "\n",
    "intra_cluster = np.zeros([max_clusters,1])\n",
    "f_out = np.zeros([max_clusters,1])\n",
    "silhouette = np.zeros([max_clusters,1])\n",
    "DB_index = np.zeros([max_clusters,1])\n",
    "#output = np.zeros([max_clusters,len(data)])\n",
    "\n",
    "for i in range(min_clusters, max_clusters):\n",
    "    \n",
    "    output_train=np.zeros((n_folds,2000))\n",
    "    output_test=np.zeros((n_folds,200))\n",
    "    accuracy_train=np.zeros((n_folds,))\n",
    "    accuracy_test=np.zeros((n_folds,))\n",
    "    best_accuracy = 0\n",
    "    for ifold in range(n_folds):\n",
    "\n",
    "        data_train, data_test, trgt_train, trgt_test = train_test_split(x_train, y_train, test_size=0.0909)\n",
    "    \n",
    "        \n",
    "        kmeans = KMeans(n_clusters=i).fit(data_train)  \n",
    "        output_train[ifold] = kmeans.predict(data_train)\n",
    "        output_test[ifold] = kmeans.predict(data_test)\n",
    "        \n",
    "        #calculate most_freq\n",
    "        #n_clusters = np.shape(cluster_centers)[0]\n",
    "        most_freq = np.zeros(i)\n",
    "        for icluster in range(i):\n",
    "            id_clusters = np.unique(output_train[ifold])\n",
    "            labels = trgt_train[output_train[ifold]==id_clusters[icluster]]\n",
    "\n",
    "            most_freq[icluster] = np.argmax(np.bincount(labels))\n",
    "        \n",
    "        accuracy_train[ifold] = calculate_accuracy(trgt_train,output_train[ifold], most_freq)\n",
    "        accuracy_test[ifold] = calculate_accuracy(trgt_test,output_test[ifold], most_freq)\n",
    "        \n",
    "        if (accuracy_test[ifold] > best_accuracy):\n",
    "            best_test_accuracy = accuracy_test[ifold]\n",
    "            best_train_accuracy = accuracy_train[ifold]\n",
    "            best_output_train = output_train[ifold]\n",
    "            best_output_test = output_test[ifold]\n",
    "            best_data_train = data_train\n",
    "            best_data_test = data_test\n",
    "            best_trgt_train = trgt_train\n",
    "            best_trgt_test = trgt_test\n",
    "            \n",
    "            silhouette[i] = metrics.silhouette_score(data_train, output_train[ifold])\n",
    "\n",
    "            #intra-cluster distance - dispersao intra classe \n",
    "            intra_cluster[i] = kmeans.inertia_\n",
    "\n",
    "            #mean inter-cluster distance - dispersao media extra classe\n",
    "            cluster_centers = kmeans.cluster_centers_\n",
    "            f_out[i] = mean_inter_cluster_dist(cluster_centers,data_train)\n",
    "\n",
    "            #Davies-Bouldin Index\n",
    "            #Dkj = (dk +dj)/dkj\n",
    "            DB_index[i] = davies_bouldin_index(cluster_centers, data_train, output_train[ifold])\n",
    "\n",
    "print 'Best train accuracy:', best_train_accuracy\n",
    "print 'Best test accuracy:', best_test_accuracy"
   ]
  },
  {
   "cell_type": "code",
   "execution_count": 102,
   "metadata": {
    "collapsed": false,
    "deletable": true,
    "editable": true
   },
   "outputs": [
    {
     "data": {
      "image/png": "[encoded data removed]",
      "text/plain": [
       "<matplotlib.figure.Figure at 0x10a9a6450>"
      ]
     },
     "metadata": {},
     "output_type": "display_data"
    }
   ],
   "source": [
    "fig, ax = plt.subplots(figsize=(20,5),nrows=1, ncols=4)\n",
    "\n",
    "ax[0].plot(range(max_clusters),intra_cluster,'bo-')\n",
    "ax[0].set_xlim([min_clusters, max_clusters])\n",
    "ax[0].set_title(\"Total Intra Disp. For Clusters (Inertia)\")\n",
    "ax[0].grid()\n",
    "\n",
    "ax[1].plot(range(max_clusters),f_out,'ro-' ) #plot in the same graph as intra-cluster dispersion?\n",
    "ax[1].set_xlim([min_clusters, max_clusters])\n",
    "ax[1].set_title(\"Inter Cluster Dispersion (Fout)\")\n",
    "ax[1].grid()\n",
    "\n",
    "ax[2].plot(range(max_clusters),silhouette,'go-')\n",
    "ax[2].set_xlim([min_clusters, max_clusters])\n",
    "ax[2].set_title(\"Silhouette Index\")\n",
    "ax[2].grid()\n",
    "\n",
    "ax[3].plot(range(max_clusters),DB_index,'ko-')\n",
    "ax[3].set_xlim([min_clusters, max_clusters])\n",
    "ax[3].set_title(\"DB Index\")\n",
    "ax[3].grid()"
   ]
  },
  {
   "cell_type": "code",
   "execution_count": 109,
   "metadata": {
    "collapsed": false,
    "deletable": true,
    "editable": true
   },
   "outputs": [
    {
     "data": {
      "image/png": "[encoded data removed]",
      "text/plain": [
       "<matplotlib.figure.Figure at 0x10c2fc910>"
      ]
     },
     "metadata": {},
     "output_type": "display_data"
    }
   ],
   "source": [
    "#showing cluster centers\n",
    "n_clusters = np.shape(cluster_centers)[0]\n",
    "most_freq = np.zeros(n_clusters)\n",
    "for icluster in range(n_clusters):\n",
    "    id_clusters = np.unique(best_output_train)\n",
    "    labels = best_trgt_train[best_output_train==id_clusters[icluster]]\n",
    "\n",
    "    most_freq[icluster] = np.argmax(np.bincount(labels))\n",
    "    \n",
    "plt.rcParams['lines.linewidth'] = 2\n",
    "plt.rcParams['legend.handlelength'] = 3\n",
    "plt.rcParams['legend.borderpad'] = 0.3\n",
    "plt.rcParams['legend.numpoints'] = 1\n",
    "\n",
    "nrows = 5\n",
    "ncols = 4\n",
    "irow = 0\n",
    "icolumn = 0\n",
    "fig, ax = plt.subplots(figsize=(10,6.5),nrows=nrows, ncols=ncols)\n",
    "\n",
    "for cluster in range(np.shape(cluster_centers)[0]):\n",
    "    img = cluster_centers[cluster];\n",
    "    img = img.reshape(28,28);\n",
    "\n",
    "    ax[irow,icolumn].imshow(img,cmap='gray',interpolation=\"nearest\")\n",
    "    ax[irow,icolumn].set_title(str(int(most_freq[cluster])))\n",
    "    ax[irow,icolumn].get_xaxis().set_visible(False)\n",
    "    ax[irow,icolumn].get_yaxis().set_visible(False)\n",
    "    \n",
    "    if (icolumn+1 == ncols):\n",
    "        icolumn = 0\n",
    "        irow = irow + 1\n",
    "    else:\n",
    "        icolumn = icolumn + 1\n",
    "        \n",
    "if cluster < (nrows*ncols):\n",
    "    for i in range(cluster,nrows*ncols-1):\n",
    "        ax[irow,icolumn].set_visible(False)\n",
    "        \n",
    "        if (icolumn+1 == ncols):\n",
    "            icolumn = 0\n",
    "            irow = irow + 1\n",
    "        else:\n",
    "            icolumn = icolumn + 1\n"
   ]
  },
  {
   "cell_type": "code",
   "execution_count": 110,
   "metadata": {
    "collapsed": false,
    "deletable": true,
    "editable": true
   },
   "outputs": [
    {
     "ename": "IndexError",
     "evalue": "index 15 is out of bounds for axis 0 with size 15",
     "output_type": "error",
     "traceback": [
      "\u001b[0;31m---------------------------------------------------------------------------\u001b[0m",
      "\u001b[0;31mIndexError\u001b[0m                                Traceback (most recent call last)",
      "\u001b[0;32m<ipython-input-110-b15294604e7b>\u001b[0m in \u001b[0;36m<module>\u001b[0;34m()\u001b[0m\n\u001b[1;32m      6\u001b[0m \u001b[0;32mfor\u001b[0m \u001b[0micluster\u001b[0m \u001b[0;32min\u001b[0m \u001b[0mrange\u001b[0m\u001b[0;34m(\u001b[0m\u001b[0mn_clusters\u001b[0m\u001b[0;34m)\u001b[0m\u001b[0;34m:\u001b[0m\u001b[0;34m\u001b[0m\u001b[0m\n\u001b[1;32m      7\u001b[0m     \u001b[0mid_clusters\u001b[0m \u001b[0;34m=\u001b[0m \u001b[0mnp\u001b[0m\u001b[0;34m.\u001b[0m\u001b[0munique\u001b[0m\u001b[0;34m(\u001b[0m\u001b[0moutput\u001b[0m\u001b[0;34m)\u001b[0m\u001b[0;34m\u001b[0m\u001b[0m\n\u001b[0;32m----> 8\u001b[0;31m     \u001b[0mlabels\u001b[0m \u001b[0;34m=\u001b[0m \u001b[0mbest_trgt_train\u001b[0m\u001b[0;34m[\u001b[0m\u001b[0mbest_output_train\u001b[0m\u001b[0;34m==\u001b[0m\u001b[0mid_clusters\u001b[0m\u001b[0;34m[\u001b[0m\u001b[0micluster\u001b[0m\u001b[0;34m]\u001b[0m\u001b[0;34m]\u001b[0m\u001b[0;34m\u001b[0m\u001b[0m\n\u001b[0m\u001b[1;32m      9\u001b[0m \u001b[0;34m\u001b[0m\u001b[0m\n\u001b[1;32m     10\u001b[0m     \u001b[0;32mfor\u001b[0m \u001b[0miclass\u001b[0m \u001b[0;32min\u001b[0m \u001b[0mrange\u001b[0m\u001b[0;34m(\u001b[0m\u001b[0mlen\u001b[0m\u001b[0;34m(\u001b[0m\u001b[0mnp\u001b[0m\u001b[0;34m.\u001b[0m\u001b[0munique\u001b[0m\u001b[0;34m(\u001b[0m\u001b[0mbest_trgt_train\u001b[0m\u001b[0;34m)\u001b[0m\u001b[0;34m)\u001b[0m\u001b[0;34m)\u001b[0m\u001b[0;34m:\u001b[0m\u001b[0;34m\u001b[0m\u001b[0m\n",
      "\u001b[0;31mIndexError\u001b[0m: index 15 is out of bounds for axis 0 with size 15"
     ]
    }
   ],
   "source": [
    "#showing cluster frequencies\n",
    "n_clusters = np.shape(cluster_centers)[0]\n",
    "most_freq = np.zeros(n_clusters)\n",
    "freq = np.zeros([n_clusters, len(np.unique(best_trgt_train))]) ##change to len(np.unique(np.argmax(y_train, axis=1)))\n",
    "\n",
    "for icluster in range(n_clusters):\n",
    "    id_clusters = np.unique(output)\n",
    "    labels = best_trgt_train[best_output_train==id_clusters[icluster]]\n",
    "    \n",
    "    for iclass in range(len(np.unique(best_trgt_train))):\n",
    "        freq[icluster,iclass]=np.sum(labels==iclass)\n",
    "    \n",
    "    most_freq[icluster] = np.argmax(np.bincount(labels))\n",
    "    \n",
    "plt.rcParams['lines.linewidth'] = 2\n",
    "plt.rcParams['legend.handlelength'] = 3\n",
    "plt.rcParams['legend.borderpad'] = 0.3\n",
    "plt.rcParams['legend.numpoints'] = 1\n",
    "\n",
    "nrows = 5\n",
    "ncols = 4\n",
    "irow = 0\n",
    "icolumn = 0\n",
    "fig, ax = plt.subplots(figsize=(12,8),nrows=nrows, ncols=ncols)\n",
    "\n",
    "for cluster in range(np.shape(cluster_centers)[0]):\n",
    "    val = freq[cluster,:]/np.sum(freq[cluster,:])\n",
    "    pos = np.arange(len(np.unique(best_trgt_train)))\n",
    "    \n",
    "    ax[irow,icolumn].barh(pos,val, align='center')\n",
    "    ax[irow,icolumn].get_yaxis().set_ticks(pos)\n",
    "    if (irow==nrows-1):\n",
    "        ax[irow,icolumn].set_xlabel('Norm. Frequency')\n",
    "    if (icolumn==0):\n",
    "        ax[irow,icolumn].set_ylabel('Classes')\n",
    "\n",
    "    if (icolumn+1 == ncols):\n",
    "        icolumn = 0\n",
    "        irow = irow + 1\n",
    "    else:\n",
    "        icolumn = icolumn + 1\n",
    "\n",
    "if cluster < (nrows*ncols):\n",
    "    for i in range(cluster,nrows*ncols-1):\n",
    "        ax[irow,icolumn].set_visible(False)\n",
    "        \n",
    "        if (icolumn+1 == ncols):\n",
    "            icolumn = 0\n",
    "            irow = irow + 1\n",
    "        else:\n",
    "            icolumn = icolumn + 1\n"
   ]
  },
  {
   "cell_type": "code",
   "execution_count": 99,
   "metadata": {
    "collapsed": false,
    "deletable": true,
    "editable": true
   },
   "outputs": [
    {
     "name": "stdout",
     "output_type": "stream",
     "text": [
      "Train Accuracy: 0.6535\n",
      "Test Accuracy: 0.665\n"
     ]
    }
   ],
   "source": [
    "accuracy_train = calculate_accuracy(trgt_train,best_output_train, most_freq)\n",
    "accuracy_test = calculate_accuracy(trgt_test,best_output_test, most_freq)\n",
    "\n",
    "print 'Train Accuracy:', accuracy_train\n",
    "print 'Test Accuracy:', accuracy_test"
   ]
  },
  {
   "cell_type": "code",
   "execution_count": 100,
   "metadata": {
    "collapsed": false
   },
   "outputs": [
    {
     "name": "stdout",
     "output_type": "stream",
     "text": [
      "Train Accuracy: 0.6535 ± 0.0\n",
      "Best Train accuracy:  0.6535\n",
      "Train Accuracy: 0.665 ± 0.0\n",
      "Best Test accuracy:  0.665\n"
     ]
    }
   ],
   "source": [
    "err_train = np.sqrt(np.var(accuracy_train))\n",
    "mean_train = np.mean(accuracy_train)\n",
    "print 'Train Accuracy:', mean_train,'±', err_train\n",
    "print 'Best Train accuracy: ',best_train_accuracy\n",
    "\n",
    "err_test = np.sqrt(np.var(accuracy_test))\n",
    "mean_test = np.mean(accuracy_test)\n",
    "print 'Train Accuracy:', mean_test,'±', err_test\n",
    "print 'Best Test accuracy: ',best_test_accuracy"
   ]
  }
 ],
 "metadata": {
  "kernelspec": {
   "display_name": "Python 2",
   "language": "python",
   "name": "python2"
  },
  "language_info": {
   "codemirror_mode": {
    "name": "ipython",
    "version": 2
   },
   "file_extension": ".py",
   "mimetype": "text/x-python",
   "name": "python",
   "nbconvert_exporter": "python",
   "pygments_lexer": "ipython2",
   "version": "2.7.12"
  }
 },
 "nbformat": 4,
 "nbformat_minor": 2
}
