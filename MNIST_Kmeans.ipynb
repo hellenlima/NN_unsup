{
 "cells": [
  {
   "cell_type": "code",
   "execution_count": 1,
   "metadata": {
    "collapsed": false,
    "deletable": true,
    "editable": true
   },
   "outputs": [
    {
     "name": "stdout",
     "output_type": "stream",
     "text": [
      "CPU times: user 7 µs, sys: 5 µs, total: 12 µs\n",
      "Wall time: 47.9 µs\n"
     ]
    },
    {
     "name": "stderr",
     "output_type": "stream",
     "text": [
      "Using Theano backend.\n",
      "/Users/hellen/.virtualenvs/se2017/lib/python2.7/site-packages/sklearn/cross_validation.py:44: DeprecationWarning: This module was deprecated in version 0.18 in favor of the model_selection module into which all the refactored classes and functions are moved. Also note that the interface of the new CV iterators are different from that of this module. This module will be removed in 0.20.\n",
      "  \"This module will be removed in 0.20.\", DeprecationWarning)\n"
     ]
    }
   ],
   "source": [
    "%time\n",
    "import os\n",
    "import keras\n",
    "from keras.datasets import mnist\n",
    "\n",
    "from sklearn import datasets\n",
    "from sklearn import cross_validation\n",
    "from sklearn import preprocessing\n",
    "from sklearn import metrics\n",
    "from sklearn.metrics import accuracy_score\n",
    "\n",
    "from sklearn.cluster import KMeans\n",
    "import numpy as np\n",
    "import matplotlib.pyplot as plt\n",
    "%matplotlib inline"
   ]
  },
  {
   "cell_type": "code",
   "execution_count": 2,
   "metadata": {
    "collapsed": false,
    "deletable": true,
    "editable": true
   },
   "outputs": [
    {
     "name": "stdout",
     "output_type": "stream",
     "text": [
      "(2000, 'train samples')\n",
      "(200, 'test samples')\n"
     ]
    }
   ],
   "source": [
    "(x_train, y_train), (x_test, y_test) = mnist.load_data();\n",
    "\n",
    "x_train = x_train.reshape(60000, 784)\n",
    "x_test = x_test.reshape(10000, 784)\n",
    "x_train = x_train.astype('float32')\n",
    "x_test = x_test.astype('float32')\n",
    "\n",
    "#training set\n",
    "classes = np.unique(y_train)\n",
    "n_samples = 200; #n_samples for each class\n",
    "\n",
    "for i in range(len(classes)):\n",
    "    x_train_i = x_train[y_train==i][0:n_samples]\n",
    "    if (i==0):\n",
    "        x_train_new = x_train_i\n",
    "    else:\n",
    "        x_train_new = np.concatenate((x_train_new, x_train_i), axis=0)\n",
    "\n",
    "#labels training set\n",
    "for i in range(len(classes)):\n",
    "    y_train_i = y_train[y_train==i][0:n_samples]\n",
    "    if (i==0):\n",
    "        y_train_new = y_train_i\n",
    "    else:\n",
    "        y_train_new = np.concatenate((y_train_new, y_train_i), axis=0)\n",
    "        \n",
    "#test set\n",
    "classes = np.unique(y_test)\n",
    "n_samples_test = 20; #n_samples for each class\n",
    "\n",
    "for i in range(len(classes)):\n",
    "    x_test_i = x_test[y_test==i][0:n_samples_test]\n",
    "    if (i==0):\n",
    "        x_test_new = x_test_i\n",
    "    else:\n",
    "        x_test_new = np.concatenate((x_test_new, x_test_i), axis=0)\n",
    "\n",
    "# labels test set\n",
    "for i in range(len(classes)):\n",
    "    y_test_i = y_test[y_test==i][0:n_samples_test]\n",
    "    if (i==0):\n",
    "        y_test_new = y_test_i\n",
    "    else:\n",
    "        y_test_new = np.concatenate((y_test_new, y_test_i), axis=0)\n",
    "\n",
    "        \n",
    "x_train = x_train_new\n",
    "y_train = y_train_new\n",
    "x_test = x_test_new\n",
    "y_test = y_test_new\n",
    "\n",
    "\n",
    "#normalization\n",
    "x_train /= 255 \n",
    "x_test /= 255\n",
    "\n",
    "classes = np.unique(y_train);\n",
    "num_classes = len(classes)\n",
    "\n",
    "#convert class vectors to binary class matrices\n",
    "y_train = keras.utils.to_categorical(y_train, num_classes)\n",
    "y_test = keras.utils.to_categorical(y_test, num_classes)\n",
    "\n",
    "print(x_train.shape[0], 'train samples')\n",
    "print(x_test.shape[0], 'test samples')"
   ]
  },
  {
   "cell_type": "code",
   "execution_count": 3,
   "metadata": {
    "collapsed": true,
    "deletable": true,
    "editable": true
   },
   "outputs": [],
   "source": [
    "def mean_inter_cluster_dist(cluster_centers, data):\n",
    "    #cluster_centers = kmeans.cluster_centers_\n",
    "    #mean_clusters = np.mean(cluster_centers,axis=0);\n",
    "    mean_data = np.mean(data);\n",
    "    n_clusters = np.shape(cluster_centers)[0];\n",
    "    f_out = 0\n",
    "    \n",
    "    for k in range(n_clusters):\n",
    "        #use mean of elements?\n",
    "        squared_norm_diff = np.linalg.norm(cluster_centers[k]-mean_data,ord=2)**2\n",
    "        #squared_norm_diff = np.linalg.norm(cluster_centers[k]-mean_clusters,ord=2)**2\n",
    "        n_members = float(sum(output==k))\n",
    "        f_out = f_out + n_members*squared_norm_diff\n",
    "\n",
    "    return f_out\n",
    "\n",
    "def davies_bouldin_index(cluster_centers, data, output): #output is the classification of the data\n",
    "    #Davies-Bouldin Index\n",
    "    #Dkj = (dk +dj)/dkj\n",
    "    n_clusters = np.shape(cluster_centers)[0];\n",
    "    new_DB = 0\n",
    "    intra_mean = np.zeros([n_clusters,1])\n",
    "    for k in range(n_clusters): #for each cluster\n",
    "        dist = data[output==k]-cluster_centers[k]\n",
    "        #norma 2 da distancia entre cada ponto do cluster e o centroid do msm\n",
    "        intra_mean[k] = np.linalg.norm(dist,ord=2)/sum(output==k)\n",
    "    Dkj = np.zeros([n_clusters,n_clusters])\n",
    "    for k_cluster in range(n_clusters):\n",
    "        for j_cluster in range(n_clusters):\n",
    "            if (k_cluster==j_cluster):\n",
    "                continue\n",
    "            dist_clusters = np.linalg.norm(cluster_centers[k_cluster]-cluster_centers[j_cluster],ord=2)\n",
    "            Dkj[k_cluster,j_cluster] = (intra_mean[k_cluster]+intra_mean[j_cluster])/dist_clusters\n",
    "    \n",
    "    DB_index = sum(np.max(Dkj,axis=0))/float(n_clusters)  \n",
    "    \n",
    "    return DB_index"
   ]
  },
  {
   "cell_type": "code",
   "execution_count": 4,
   "metadata": {
    "collapsed": false,
    "deletable": true,
    "editable": true
   },
   "outputs": [
    {
     "name": "stdout",
     "output_type": "stream",
     "text": [
      "CPU times: user 2 µs, sys: 0 ns, total: 2 µs\n",
      "Wall time: 5.01 µs\n"
     ]
    }
   ],
   "source": [
    "%time\n",
    "min_clusters = 15\n",
    "max_clusters = 16\n",
    "\n",
    "data = x_train;\n",
    "\n",
    "intra_cluster = np.zeros([max_clusters,1])\n",
    "f_out = np.zeros([max_clusters,1])\n",
    "silhouette = np.zeros([max_clusters,1])\n",
    "DB_index = np.zeros([max_clusters,1])\n",
    "#output = np.zeros([max_clusters,len(data)])\n",
    "\n",
    "for i in range(min_clusters, max_clusters):\n",
    "    \n",
    "    kmeans = KMeans(n_clusters=i).fit(data)  \n",
    "    output = kmeans.predict(data)\n",
    "    \n",
    "    silhouette[i] = metrics.silhouette_score(data, output)\n",
    "    \n",
    "    #intra-cluster distance - dispersao intra classe \n",
    "    intra_cluster[i] = kmeans.inertia_\n",
    "    \n",
    "    #mean inter-cluster distance - dispersao media extra classe\n",
    "    cluster_centers = kmeans.cluster_centers_\n",
    "    f_out[i] = mean_inter_cluster_dist(cluster_centers,data)\n",
    "\n",
    "    #Davies-Bouldin Index\n",
    "    #Dkj = (dk +dj)/dkj\n",
    "    DB_index[i] = davies_bouldin_index(cluster_centers, data, output)\n",
    "\n"
   ]
  },
  {
   "cell_type": "code",
   "execution_count": 5,
   "metadata": {
    "collapsed": false,
    "deletable": true,
    "editable": true
   },
   "outputs": [
    {
     "data": {
      "image/png": "[encoded data removed]",
      "text/plain": [
       "<matplotlib.figure.Figure at 0x10af85110>"
      ]
     },
     "metadata": {},
     "output_type": "display_data"
    }
   ],
   "source": [
    "fig, ax = plt.subplots(figsize=(20,5),nrows=1, ncols=4)\n",
    "\n",
    "ax[0].plot(range(max_clusters),intra_cluster,'bo-')\n",
    "ax[0].set_xlim([min_clusters, max_clusters])\n",
    "ax[0].set_title(\"Total Intra Disp. For Clusters (Inertia)\")\n",
    "ax[0].grid()\n",
    "\n",
    "ax[1].plot(range(max_clusters),f_out,'ro-' ) #plot in the same graph as intra-cluster dispersion?\n",
    "ax[1].set_xlim([min_clusters, max_clusters])\n",
    "ax[1].set_title(\"Inter Cluster Dispersion (Fout)\")\n",
    "ax[1].grid()\n",
    "\n",
    "ax[2].plot(range(max_clusters),silhouette,'go-')\n",
    "ax[2].set_xlim([min_clusters, max_clusters])\n",
    "ax[2].set_title(\"Silhouette Index\")\n",
    "ax[2].grid()\n",
    "\n",
    "ax[3].plot(range(max_clusters),DB_index,'ko-')\n",
    "ax[3].set_xlim([min_clusters, max_clusters])\n",
    "ax[3].set_title(\"DB Index\")\n",
    "ax[3].grid()"
   ]
  },
  {
   "cell_type": "code",
   "execution_count": 6,
   "metadata": {
    "collapsed": false,
    "deletable": true,
    "editable": true
   },
   "outputs": [
    {
     "data": {
      "image/png": "[encoded data removed]",
      "text/plain": [
       "<matplotlib.figure.Figure at 0x1042b9750>"
      ]
     },
     "metadata": {},
     "output_type": "display_data"
    }
   ],
   "source": [
    "#showing cluster centers\n",
    "n_clusters = np.shape(cluster_centers)[0]\n",
    "most_freq = np.zeros(n_clusters)\n",
    "for icluster in range(n_clusters):\n",
    "    id_clusters = np.unique(output)\n",
    "    labels = y_train[output==id_clusters[icluster]]\n",
    "    \n",
    "    most_freq[icluster] = np.argmax(np.bincount(np.argmax(labels, axis=1)))\n",
    "    \n",
    "plt.rcParams['lines.linewidth'] = 2\n",
    "plt.rcParams['legend.handlelength'] = 3\n",
    "plt.rcParams['legend.borderpad'] = 0.3\n",
    "plt.rcParams['legend.numpoints'] = 1\n",
    "\n",
    "nrows = 3\n",
    "ncols = 5\n",
    "irow = 0\n",
    "icolumn = 0\n",
    "fig, ax = plt.subplots(figsize=(10,6.5),nrows=nrows, ncols=ncols)\n",
    "\n",
    "for cluster in range(np.shape(cluster_centers)[0]):\n",
    "    img = cluster_centers[cluster];\n",
    "    img = img.reshape(28,28);\n",
    "\n",
    "    ax[irow,icolumn].imshow(img,cmap='gray',interpolation=\"nearest\")\n",
    "    ax[irow,icolumn].set_title(str(int(most_freq[cluster])))\n",
    "    ax[irow,icolumn].get_xaxis().set_visible(False)\n",
    "    ax[irow,icolumn].get_yaxis().set_visible(False)\n",
    "    \n",
    "    if (icolumn+1 == ncols):\n",
    "        icolumn = 0\n",
    "        irow = irow + 1\n",
    "    else:\n",
    "        icolumn = icolumn + 1\n",
    "        \n",
    "if cluster < (nrows*ncols):\n",
    "    for i in range(cluster,nrows*ncols-1):\n",
    "        ax[irow,icolumn].set_visible(False)\n",
    "        \n",
    "        if (icolumn+1 == ncols):\n",
    "            icolumn = 0\n",
    "            irow = irow + 1\n",
    "        else:\n",
    "            icolumn = icolumn + 1\n"
   ]
  },
  {
   "cell_type": "code",
   "execution_count": 7,
   "metadata": {
    "collapsed": false,
    "deletable": true,
    "editable": true
   },
   "outputs": [
    {
     "data": {
      "image/png": "[encoded data removed]",
      "text/plain": [
       "<matplotlib.figure.Figure at 0x10af750d0>"
      ]
     },
     "metadata": {},
     "output_type": "display_data"
    }
   ],
   "source": [
    "#showing cluster frequencies\n",
    "n_clusters = np.shape(cluster_centers)[0]\n",
    "most_freq = np.zeros(n_clusters)\n",
    "freq = np.zeros([n_clusters, np.shape(y_train)[1]]) ##change to len(np.unique(np.argmax(y_train, axis=1)))\n",
    "\n",
    "for icluster in range(n_clusters):\n",
    "    id_clusters = np.unique(output)\n",
    "    labels = y_train[output==id_clusters[icluster]]\n",
    "    \n",
    "    for iclass in range(len(np.unique(np.argmax(y_train, axis=1)))):\n",
    "        freq[icluster,iclass]=np.sum(np.argmax(labels, axis=1)==iclass)\n",
    "    \n",
    "    most_freq[icluster] = np.argmax(np.bincount(np.argmax(labels, axis=1)))\n",
    "    \n",
    "plt.rcParams['lines.linewidth'] = 2\n",
    "plt.rcParams['legend.handlelength'] = 3\n",
    "plt.rcParams['legend.borderpad'] = 0.3\n",
    "plt.rcParams['legend.numpoints'] = 1\n",
    "\n",
    "nrows = 3\n",
    "ncols = 5\n",
    "irow = 0\n",
    "icolumn = 0\n",
    "fig, ax = plt.subplots(figsize=(12,8),nrows=nrows, ncols=ncols)\n",
    "\n",
    "for cluster in range(np.shape(cluster_centers)[0]):\n",
    "    val = freq[cluster,:]/np.sum(freq[cluster,:])\n",
    "    pos = np.arange(len(np.unique(np.argmax(y_train, axis=1))))\n",
    "    \n",
    "    ax[irow,icolumn].barh(pos,val, align='center')\n",
    "    ax[irow,icolumn].get_yaxis().set_ticks(pos)\n",
    "    if (irow==nrows-1):\n",
    "        ax[irow,icolumn].set_xlabel('Norm. Frequency')\n",
    "    if (icolumn==0):\n",
    "        ax[irow,icolumn].set_ylabel('Classes')\n",
    "\n",
    "    if (icolumn+1 == ncols):\n",
    "        icolumn = 0\n",
    "        irow = irow + 1\n",
    "    else:\n",
    "        icolumn = icolumn + 1\n",
    "\n",
    "if cluster < (nrows*ncols):\n",
    "    for i in range(cluster,nrows*ncols-1):\n",
    "        ax[irow,icolumn].set_visible(False)\n",
    "        \n",
    "        if (icolumn+1 == ncols):\n",
    "            icolumn = 0\n",
    "            irow = irow + 1\n",
    "        else:\n",
    "            icolumn = icolumn + 1\n"
   ]
  },
  {
   "cell_type": "code",
   "execution_count": 9,
   "metadata": {
    "collapsed": false,
    "deletable": true,
    "editable": true
   },
   "outputs": [
    {
     "name": "stdout",
     "output_type": "stream",
     "text": [
      "Train Accuracy: 0.6495\n",
      "Test Accuracy: 0.54\n"
     ]
    }
   ],
   "source": [
    "y_train = np.argmax(y_train, axis=1)\n",
    "y_test = np.argmax(y_test, axis=1)\n",
    "\n",
    "#Train and test accuracy\n",
    "\n",
    "count_train = 0;\n",
    "for ievent in range(len(x_train)):\n",
    "    cluster_predict = output[ievent] #prediction\n",
    "    if y_train[ievent]==most_freq[cluster_predict]:\n",
    "        count_train = count_train+1\n",
    "\n",
    "output_test = kmeans.predict(x_test)\n",
    "count_test = 0;\n",
    "for ievent in range(len(x_test)):\n",
    "    cluster_predict = output_test[ievent] #prediction\n",
    "    if y_test[ievent]==most_freq[cluster_predict]:\n",
    "        count_test = count_test+1\n",
    "\n",
    "accuracy_train = count_train/float(np.shape(x_train)[0])\n",
    "accuracy_test = count_test/float(np.shape(x_test)[0])\n",
    "\n",
    "print 'Train Accuracy:', accuracy_train\n",
    "print 'Test Accuracy:', accuracy_test"
   ]
  },
  {
   "cell_type": "code",
   "execution_count": null,
   "metadata": {
    "collapsed": false
   },
   "outputs": [],
   "source": [
    "print y_test"
   ]
  }
 ],
 "metadata": {
  "kernelspec": {
   "display_name": "Python 2",
   "language": "python",
   "name": "python2"
  },
  "language_info": {
   "codemirror_mode": {
    "name": "ipython",
    "version": 2
   },
   "file_extension": ".py",
   "mimetype": "text/x-python",
   "name": "python",
   "nbconvert_exporter": "python",
   "pygments_lexer": "ipython2",
   "version": "2.7.12"
  }
 },
 "nbformat": 4,
 "nbformat_minor": 2
}
